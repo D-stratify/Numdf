{
  "cells": [
    {
      "cell_type": "markdown",
      "metadata": {
        "colab_type": "text",
        "id": "view-in-github"
      },
      "source": [
        "<a href=\"https://colab.research.google.com/github/mannixp/CHIST/blob/main/PDF_Construction_using_extruded_mesh.ipynb\" target=\"_parent\"><img src=\"https://colab.research.google.com/assets/colab-badge.svg\" alt=\"Open In Colab\"/></a>"
      ]
    },
    {
      "cell_type": "code",
      "execution_count": 1,
      "metadata": {
        "colab": {
          "base_uri": "https://localhost:8080/"
        },
        "id": "eoPnd_A7SZum",
        "outputId": "67614496-ab47-4b86-c60d-2f0e3d7f5ce6"
      },
      "outputs": [
        {
          "name": "stdout",
          "output_type": "stream",
          "text": [
            "/bin/bash: line 1: apt-get: command not found\n"
          ]
        },
        {
          "name": "stderr",
          "output_type": "stream",
          "text": [
            "firedrake:WARNING OMP_NUM_THREADS is not set or is set to a value greater than 1, we suggest setting OMP_NUM_THREADS=1 to improve performance\n"
          ]
        }
      ],
      "source": [
        "!apt-get update --fix-missing\n",
        "\n",
        "try:\n",
        "    import firedrake\n",
        "except ImportError:\n",
        "    !wget \"https://fem-on-colab.github.io/releases/firedrake-install-real.sh\" -O \"/tmp/firedrake-install.sh\" && bash \"/tmp/firedrake-install.sh\"\n",
        "    import firedrake"
      ]
    },
    {
      "attachments": {},
      "cell_type": "markdown",
      "metadata": {
        "id": "gFueH_-SWrFQ"
      },
      "source": [
        "**Part 2 - Computing the PDF**\n",
        "\n",
        "**A) Theory**\n",
        "\n",
        "Having constructed a finite element approximation of the CDF $\\mathsf{F}(y)$ we now turn to constructing its PDF which must remain positive and integrate to one. While strictly speaking the PDF is the derivative of the CDF, the CDF obtained in **Part 1** is discontinuous and therefore a classical derivative can only be defined within each element $\\Omega_e$. At the elements' boundaries $\\partial \\Omega_e$ there is a jump in the CDF, and as a consequence $\\mathsf{F}(y)$ has neither a classical nor a weak derivative at these points. Instead a distributional derivative must be used (cf. [Ern, A., Guermond, JL. (2021)](https://doi.org/10.1007/978-3-030-56341-7_4)). This distinction leads us to define the PDF as the distribution\n",
        "\\begin{equation}\n",
        "f[v] = \\int_{\\Omega_Y} v(y) d\\mathsf{F}(y),\n",
        "\\end{equation}\n",
        "where $v \\in C_0(\\Omega_Y)$ is an appropriate test function. Although the PDF cannot be expressed as a function, Lebesgue's decomposition theorem (cf. [Rudin, W. (1987)](https://perso.telecom-paristech.fr/decreuse/_downloads/c22155fef582344beb326c1f44f437d2/rudin.pdf)) (and the finite dimensional setting of this problem) allows this distribution to be written as a sum of two continuous linear functionals\n",
        "\\begin{equation}\n",
        "\\mathsf{f}_Y[v] = \\langle v, \\mathsf{f}_0 \\rangle_{V_0} + \\langle v, \\mathsf{f}_1 \\rangle_{V_1},\n",
        "\\end{equation}\n",
        "over the Hilbert spaces $V_0$ and $V_1$ associated with the continuous part of the PDF within the $N_e$ elements $\\Omega_e$, and the singular contribution to the PDF from jumps at the $N_e + 1$ facets $\\Gamma$. This is useful because although we cannot calculate the functional form of the PDF, we can compute its Riesz representation as the functions $\\mathsf{f}_0(y) \\in L^2(\\Omega_Y)$ and $\\mathsf{f}_1(y) \\in L^2(\\Gamma)$. "
      ]
    },
    {
      "cell_type": "markdown",
      "metadata": {},
      "source": [
        "*Boundary conditions*\n",
        "\n",
        "To obtain the projections for $\\mathsf{f}_0$ and $\\mathsf{f}_1$ we integrate by parts over a single element \n",
        "\n",
        "\\begin{equation} \n",
        "    \\int_{\\Omega_e}  v(y) \\partial_y \\mathsf{F}_Y(y) \\, d y =  - \\int_{\\Omega_e} \\left( \\partial_y v(y) \\right) \\mathsf{F}_Y(y) \\, d y +  v(y) \\mathsf{F}_Y(y) \\bigg|_{\\partial \\Omega_e },\n",
        "\\end{equation}\n",
        "and then sum over all elements to obtain the contribution to $\\mathsf{f}_0$ from within elements and the contribution to $\\mathsf{f}_1$ from the element boundaries\n",
        "\n",
        "\\begin{equation}\n",
        "    \\mathsf{f}_Y[v] = \\underbrace{- \\sum_{e=1}^{N_e} \\int_{\\Omega_e} \\left( \\partial_y v(y) \\right) \\mathsf{F}_Y(y) \\, d y}_{:= \\langle v, \\mathsf{f}_0 \\rangle_{V_0}} + \\underbrace{ \\sum_{y_e \\in \\Gamma} - v(y_e) [[\\mathsf{F}_Y(y_e)]] }_{:= \\langle v, \\mathsf{f}_1 \\rangle_{V_1}},\n",
        "\\end{equation} \n",
        "where $[[\\mathsf{F}_Y(y_e)]] = \\mathsf{F}^+_Y(y_e) - \\mathsf{F}^-_Y(y_e)$ corresponds to the jump at each facet $y_e \\in \\Gamma$.  Although $[[\\mathsf{F}_Y(y_e)]]$ is defined at all interior facets, because we use a finite domain, we must specify the behaviour of $\\mathsf{F}_Y(y)$ at the boundary $\\partial \\Omega_Y$. If $\\Omega_Y$ is chosen such that the range of $Y(x)$ is a subset of the domain (i.e. $\\text{Range}(Y(x)) \\subseteq \\Omega_Y$), then we must impose Dirichlet boundary conditions to account for any mass lost due to discretisation error. This translates to specifying\n",
        "\n",
        "\\begin{equation}\n",
        "    [[\\mathsf{F}_Y(y_e = y_{\\text{min}})]] = \\mathsf{F}^+_Y(y_e = y_{\\text{min}}) - 0\n",
        "\\end{equation}\n",
        "at the lower boundary and \n",
        "\n",
        "\\begin{equation}\n",
        "    [[\\mathsf{F}_Y(y_e = y_{\\text{max}})]] = 1- \\mathsf{F}^-_Y(y_e = y_{\\text{max}})\n",
        "\\end{equation}\n",
        "at the upper boundary. As the discretisation error reduces with increasing resolution, $\\mathsf{F}_Y(y)$ will tend to $0$ and $1$ at the lower and upper boundaries respectively and so this jump will tend to zero. Alternatively, if the domain is a subset of the range of $Y(x)$ (i.e. $\\text{Range}(Y(x)) \\supset \\Omega_Y$), the PDF should not integrate to one as we do not want to account for the mass beyond the end points of the domain. Although the boundary conditions for this case correspond to inhomogeneous Neumann boundary conditions, it is easily treated by specifying $ [[\\mathsf{F}_Y(y_e = y_{\\text{max}})]] =  [[\\mathsf{F}_Y(y_e = y_{\\text{min}})]] =0$, which follows from the fact that continuity of the derivative at the boundary of $\\partial \\Omega_Y$ implies that the jump is zero."
      ]
    },
    {
      "attachments": {},
      "cell_type": "markdown",
      "metadata": {},
      "source": [
        "*Element interior*\n",
        "\n",
        "As a consequence of defining the PDF as a distribution and because we choose that $\\mathsf{F}_Y(y)$ lives in the space of discontinuous piecewise linear functions, $\\mathsf{f}_0$ lies within the space of discontinuous piecewise constant functions. Therefore to recover $\\mathsf{f}_0$, the Riesz representor of $\\mathsf{f}_Y[v]$ within the element, we define the basis $V_0 = \\text{span}\\{\\varphi_i(y)\\}$ such that $\\mathsf{f}_0(y) = \\sum_i \\mathsf{f}^i_0 \\varphi_i(y)$. As element boundaries in $L^2(\\Omega_Y)$ have measure zero, integrating over all elements is equivalent to integrating over the domain $\\sum_{e=1}^{N_e} \\int_{\\Omega_e} \\cdot \\; dy = \\int_{\\Omega_Y} \\cdot \\; dy$. This implies that contribution of the boundary terms are zero when calculating  $\\mathsf{f}_0$ and that the projection is simply given by\n",
        "\n",
        "\\begin{equation}\n",
        "    \\int_{\\Omega_Y} v(y) \\mathsf{f}_0(y) \\, d y = \\int_{\\Omega_Y} v(y) \\partial_y \\mathsf{F}_Y(y) \\, d y, \\quad \\text{where} \\quad v \\in V_0.\n",
        "\\end{equation}\n",
        "\n",
        "*Element facets*\n",
        "\n",
        "To recover $\\mathsf{f}_1$, the Riesz representor of $\\mathsf{f}_Y[v]$ at the element facets, we can define the projection over the set of facets as the point evaluation of the jump in the CDF at each facet. Choosing the space of piecewise continuous linear functions (also known as CG1) with nodes at the cell boundaries and defining the basis $V_1 = \\text{span}\\{\\varphi_i(y)\\}$ such that $\\mathsf{f}_1(y) = \\sum_i \\mathsf{f}^i_1 \\varphi_i(y)$, we define the projection over the set of facets as\n",
        "\n",
        "\\begin{equation}\n",
        "    \\mathsf{f}^i_1 = - \\sum_{y_e \\in \\Gamma} \\varphi_i(y_e) [[\\mathsf{F}_Y(y_e)]], \\quad \\text{where} \\quad \\varphi_i \\in V_1.\n",
        "\\end{equation}\n",
        "\n",
        "If the true CDF $F_Y$ is smooth and continuous, the jumps in its finite element approximation $[[\\mathsf{F}_Y(y_e)]]$ at the facets will tend to zero as the approximation converges. On the other hand should the true CDF contain a step corresponding, for example, to a region of $\\Omega_X$ where $Y(x)$ is constant (as indicated in the schematic shown in \\textbf{Part 1}), the jump $[[\\mathsf{F}_Y(y_e)]]$ will be correctly associated with a Dirac measure (cf. [Ern, A., Guermond, JL. (2021)](https://doi.org/10.1007/978-3-030-56341-7_4)). As we now demonstrate numerically, defining the finite element approximation of the PDF $\\mathsf{f}_Y[v]$ in terms of distribution provides a mathematically consistent formulation which allows us to ensure that the projection of derivative of the CDF does not loose mass, while applying the Riesz representation theorem allows us to visualize the PDF in terms of how $\\mathsf{f}_0, \\mathsf{f}_1$ acts on functions."
      ]
    },
    {
      "attachments": {},
      "cell_type": "markdown",
      "metadata": {},
      "source": [
        "**B) Numerical implementation**\n",
        "\n",
        "To demonstrate our method of recovering $\\mathsf{f}_0$ and $\\mathsf{f}_1$ we will make use of the function \n",
        "\\begin{equation}\n",
        "Y(x_1) = \\begin{cases} 0 \\quad x_1 < 0, \\\\ x \\quad x_1 \\geq 0, \\end{cases} \n",
        "\\end{equation}\n",
        "where $x_1 \\in [-1,1]$. This function is useful because its CDF contains a step and therefore its corresponding PDF will contain a Dirac distribution. To simplify the presentation we use the *NumDF* library (imported below) which implements the methods used in **Part 1**. "
      ]
    },
    {
      "cell_type": "code",
      "execution_count": 2,
      "metadata": {},
      "outputs": [],
      "source": [
        "from numdf import Ptp\n",
        "import numpy as np\n",
        "from firedrake import *"
      ]
    },
    {
      "attachments": {},
      "cell_type": "markdown",
      "metadata": {},
      "source": [
        "We begin by creating an instance of the *Ptp* class by specify the physical domain $\\Omega_X$, the domain of the CDF $\\Omega_Y$ and a number of elements. As justified in Part1 a discontinuous piecewise linear 'DG1' function space is selected by default for the CDF."
      ]
    },
    {
      "cell_type": "code",
      "execution_count": 3,
      "metadata": {},
      "outputs": [],
      "source": [
        "# Specify the domain sizes and number of elements\n",
        "ptp = Ptp(Omega_X = {'x1': (-1, 1)}, Omega_Y = {'Y': (-1, 1)}, n_elements=10)"
      ]
    },
    {
      "attachments": {},
      "cell_type": "markdown",
      "metadata": {},
      "source": [
        "We then specify our function $Y(x_1)$ in terms of the coordinates of the domain and generate its CDF by calling the fit method."
      ]
    },
    {
      "cell_type": "code",
      "execution_count": 4,
      "metadata": {},
      "outputs": [],
      "source": [
        "# Extract the coordinates\n",
        "x1 = ptp.x_coords()\n",
        "Y = conditional(ge(x1, 0), x1, 0)\n",
        "density = ptp.fit(Y=Y, quadrature_degree=200)"
      ]
    },
    {
      "attachments": {},
      "cell_type": "markdown",
      "metadata": {},
      "source": [
        "Using the density object we can then plot the CDF, which contains a step at $y=0$."
      ]
    },
    {
      "cell_type": "code",
      "execution_count": 5,
      "metadata": {},
      "outputs": [
        {
          "data": {
            "image/png": "[encoded data removed]",
            "text/plain": [
              "<Figure size 640x480 with 1 Axes>"
            ]
          },
          "metadata": {},
          "output_type": "display_data"
        }
      ],
      "source": [
        "density.plot('CDF')"
      ]
    },
    {
      "attachments": {},
      "cell_type": "markdown",
      "metadata": {},
      "source": [
        "We first compute the projection of $\\partial_y \\mathsf{F}_Y(y)$ into $L^2(\\Omega_Y)$ by specifying a discontinuous piecewise constant function space $V_{\\mathsf{f}_0}$ for $\\mathsf{f}_0(y)$ also known as 'DG0'. This choice naturally follows from the fact that $\\mathsf{F}_Y(y)$ lives in 'DG1' and so its derivative should live in the lower order space 'DG0'."
      ]
    },
    {
      "cell_type": "code",
      "execution_count": 6,
      "metadata": {
        "colab": {
          "base_uri": "https://localhost:8080/",
          "height": 472
        },
        "id": "GjsOBMvRW_iC",
        "outputId": "fe4aa83d-0c2a-4564-d135-fd2695ffeceb"
      },
      "outputs": [],
      "source": [
        "def compute_f0_pdf(F):\n",
        "    \"\"\"Compute f_0(y) as the derivative of CDF F(y) within the elements.\"\"\"\n",
        "\n",
        "    # Grab the mesh associated with the CDF\n",
        "    mesh = F.function_space().mesh()\n",
        "\n",
        "    # Define a function space for the PDF\n",
        "    V_f0 = FunctionSpace(mesh=mesh,family=\"DG\",degree=0)\n",
        "\n",
        "    u = TrialFunction(V_f0)\n",
        "    v = TestFunction(V_f0)\n",
        "\n",
        "    # Define the variational form\n",
        "    a = inner(u,v)*dx\n",
        "    L = inner(F.dx(0),v)*dx\n",
        "\n",
        "    # Solve for f0\n",
        "    f0 = Function(V_f0)\n",
        "    solve(a == L, f0)\n",
        "    \n",
        "    return f0"
      ]
    },
    {
      "attachments": {},
      "cell_type": "markdown",
      "metadata": {},
      "source": [
        "To realise the Riesz representor $\\mathsf{f}_1$ associated with the jump discontinuities at each facet, we can project the distribution into the space of continuous functions 'CG1' whose basis\n",
        "\\begin{equation}\n",
        "\\varphi_i(y_j) = \\delta_{ij}, \\quad \\delta_{ij} = \\begin{cases} 1 \\quad i = j, \\\\ 0 \\quad i \\neq j, \\end{cases}\n",
        "\\end{equation}\n",
        "if restricted to the set of cell facets naturally represents our measure. To compute $[[\\mathsf{F}]]_e$ we make use of the $\\texttt{jump}$ operator (part of the UFL form language) which evaluates the difference between the restrictions of the given expression on the positive and negative sides of the facet. The restriction to the cell facets is implemented by making use of the interior and exterior measures $\\texttt{dS}$ and $\\texttt{ds}$. At the exterior facets we impose either a Dirichlet or Neumann boundary condition on $\\mathsf{F}$ in order to evaluate the jump and finally the $\\texttt{avg}$ operator used below is also required when using $\\texttt{dS}, \\texttt{ds}$."
      ]
    },
    {
      "cell_type": "code",
      "execution_count": 7,
      "metadata": {},
      "outputs": [],
      "source": [
        "def compute_f1_pdf(F):\n",
        "    \"\"\"Compute f1 the riesz representor of the distributional derivative of CDF F(y) at the element facets.\"\"\"\n",
        "\n",
        "    # Grab the mesh associated with the CDF\n",
        "    mesh = F.function_space().mesh()\n",
        "    \n",
        "    # Determine Omega_Y\n",
        "    y      = mesh.coordinates.dat.data[:]\n",
        "    Omega_Y = np.array([min(y), max(y)])\n",
        "\n",
        "    # Determine range of Y(x1)\n",
        "    Range_Y = np.array([0, 1]) \n",
        "\n",
        "    # Define a function space for the test function\n",
        "    V_f1 = FunctionSpace(mesh=mesh, family=\"CG\", degree=1)\n",
        "\n",
        "    u = TrialFunction(V_f1)\n",
        "    v = TestFunction(V_f1)\n",
        "\n",
        "    if min(Omega_Y) < min(Range_Y):\n",
        "        # Dirichlet BC at the left boundary\n",
        "        L_left = (F-0)*v*ds(1)\n",
        "    else:\n",
        "        # Neumann BC at the left boundary\n",
        "        L_left = 0\n",
        "\n",
        "    if max(Omega_Y) > max(Range_Y):\n",
        "        # Dirichlet BC at the right boundary\n",
        "        L_right = (F-1)*v*ds(2)        \n",
        "    else:\n",
        "        # Neumann BC at the right boundary\n",
        "        L_right = 0\n",
        "\n",
        "    # Define the variational form for the:\n",
        "    #      interior facets                 exterior facets\n",
        "    a = inner(avg(u),avg(v))*dS  +          inner(u,v)*ds\n",
        "    L = -jump(F)*avg(v)*dS       -  ( L_right - L_left )\n",
        "\n",
        "    # Solve for fs\n",
        "    f1 = Function(V_f1)\n",
        "    solve(a == L, f1)\n",
        "\n",
        "    return f1"
      ]
    },
    {
      "attachments": {},
      "cell_type": "markdown",
      "metadata": {},
      "source": [
        "Having defined these two functions we then pass the CDF computed in order to recover the distribution $\\mathsf{f}[v]$ in terms of $\\mathsf{f}_0$ and $\\mathsf{f}_1$."
      ]
    },
    {
      "cell_type": "code",
      "execution_count": 8,
      "metadata": {},
      "outputs": [],
      "source": [
        "# Compute f0 within the elements\n",
        "f0 = compute_f0_pdf(density.cdf)\n",
        "\n",
        "# Compute fs at the element boundaries\n",
        "f1 = compute_f1_pdf(density.cdf)"
      ]
    },
    {
      "attachments": {},
      "cell_type": "markdown",
      "metadata": {},
      "source": [
        "Below we plot $\\mathsf{f}[v]$ in terms of $\\mathsf{f}_0$ (solid line) and $\\mathsf{f}_1$ (vertical dashed blue line)"
      ]
    },
    {
      "cell_type": "code",
      "execution_count": 9,
      "metadata": {},
      "outputs": [
        {
          "data": {
            "image/png": "[encoded data removed]",
            "text/plain": [
              "<Figure size 640x480 with 1 Axes>"
            ]
          },
          "metadata": {},
          "output_type": "display_data"
        }
      ],
      "source": [
        "import matplotlib.pyplot as plt\n",
        "from firedrake.pyplot import plot\n",
        "\n",
        "# Plot the piecewise constant component\n",
        "plot(f0, num_sample_points=50)\n",
        "\n",
        "# Plot the singular component\n",
        "m_y = f1.function_space().mesh()\n",
        "loc = m_y.coordinates.dat.data[:]\n",
        "jump = f1.dat.data[:]\n",
        "\n",
        "y = np.linspace(0,1,50)\n",
        "for j_i,y_i in zip(jump,loc): \n",
        "    plt.plot(y_i*np.ones(50),j_i*y,'b--')\n",
        "    if abs(j_i) > 1e-03: plt.plot(y_i,j_i,'ro')\n",
        "\n",
        "# Label the plot\n",
        "plt.title(r'PDF',fontsize=20)\n",
        "plt.ylabel(r'$\\mathsf{f}_0, \\; \\mathsf{f}_1$',fontsize=20)\n",
        "plt.xlabel(r'$y$',fontsize=20)\n",
        "plt.tight_layout()\n",
        "plt.grid()\n",
        "plt.show()"
      ]
    },
    {
      "attachments": {},
      "cell_type": "markdown",
      "metadata": {},
      "source": [
        "Finally to check that this projection has conserved mass we integrate the distribution $\\mathsf{f}[v=1]$ below"
      ]
    },
    {
      "cell_type": "code",
      "execution_count": 10,
      "metadata": {},
      "outputs": [
        {
          "name": "stdout",
          "output_type": "stream",
          "text": [
            "f[v=1] = <1,f_0> + <1, f_1> = 1.000000e+00\n"
          ]
        }
      ],
      "source": [
        "int_f = assemble(f0*dx)  +  assemble(f1*ds + avg(f1)*dS)\n",
        "\n",
        "print('f[v=1] = <1,f_0> + <1, f_1> = %e' % int_f)"
      ]
    },
    {
      "attachments": {},
      "cell_type": "markdown",
      "metadata": {},
      "source": [
        "In **Part 1** a discontinuous piecewise linear function space 'DG1' for $\\mathsf{F}_Y(y)$ was justified by the need to maintain a non-decreasing and right-continuous function, which can be achieved by applying a slope limiter more easily for 'DG1' than for other higher order elements. Although this would be also guaranteed by choosing the space of piece-wise constant discontinuous functions 'DG0', the cell integral and the boundary terms in the previous equation would cancel, meaning that an additional approximation would need to be introduced in order to recover the PDF at these points. By choosing 'DG1' this issue is avoided and as evidenced by this notebook, 'DG1' also provides a convenient means for recovering the PDF (which may include a Dirac distribution) in a consistent fashion. "
      ]
    }
  ],
  "metadata": {
    "colab": {
      "authorship_tag": "ABX9TyMRaswWWBGz0+Ot/OMH9pPe",
      "include_colab_link": true,
      "provenance": []
    },
    "kernelspec": {
      "display_name": "firedrake",
      "language": "python",
      "name": "python3"
    },
    "language_info": {
      "codemirror_mode": {
        "name": "ipython",
        "version": 3
      },
      "file_extension": ".py",
      "mimetype": "text/x-python",
      "name": "python",
      "nbconvert_exporter": "python",
      "pygments_lexer": "ipython3",
      "version": "3.10.14"
    },
    "vscode": {
      "interpreter": {
        "hash": "ae5168414ba30101a1875b7b0dfc4869f22e981c658fb91a3978d3751a99c394"
      }
    }
  },
  "nbformat": 4,
  "nbformat_minor": 0
}
