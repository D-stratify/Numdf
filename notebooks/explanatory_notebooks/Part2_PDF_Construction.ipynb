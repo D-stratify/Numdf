{
  "cells": [
    {
      "cell_type": "markdown",
      "metadata": {
        "colab_type": "text",
        "id": "view-in-github"
      },
      "source": [
        "<a href=\"https://colab.research.google.com/github/mannixp/CHIST/blob/main/PDF_Construction_using_extruded_mesh.ipynb\" target=\"_parent\"><img src=\"https://colab.research.google.com/assets/colab-badge.svg\" alt=\"Open In Colab\"/></a>"
      ]
    },
    {
      "cell_type": "code",
      "execution_count": null,
      "metadata": {
        "colab": {
          "base_uri": "https://localhost:8080/"
        },
        "id": "eoPnd_A7SZum",
        "outputId": "67614496-ab47-4b86-c60d-2f0e3d7f5ce6"
      },
      "outputs": [],
      "source": [
        "!apt-get update --fix-missing\n",
        "\n",
        "try:\n",
        "    import firedrake\n",
        "except ImportError:\n",
        "    !wget \"https://fem-on-colab.github.io/releases/firedrake-install-real.sh\" -O \"/tmp/firedrake-install.sh\" && bash \"/tmp/firedrake-install.sh\"\n",
        "    import firedrake"
      ]
    },
    {
      "attachments": {},
      "cell_type": "markdown",
      "metadata": {
        "id": "gFueH_-SWrFQ"
      },
      "source": [
        "**Part 2 - Computing the PDF**\n",
        "\n",
        "**A) Theory**\n",
        "\n",
        "Having constructed the CDF $F(y)$ we now turn to constructing its PDF $f(y)$ which must remain positive and integrate to one. While strictly speaking the PDF is the derivative of the CDF, the CDF obtained in **Part 1** is discontinuous and therefore a classical derivative can only be defined within each element $\\Omega_e$. At the element facets $\\partial \\Omega_e$ there is a jump in the CDF. As a consequence $F(y)$ has neither a classical nor a weak derivative at these points, but must instead be defined in terms of a distribution (cf. [Ern, A., Guermond, JL. (2021)](https://doi.org/10.1007/978-3-030-56341-7_4)). To this end we choose to recover the PDF, within each element, via a projection into $L^1(\\Omega_Y)$, while the PDF at the element facets must be defined either as a distribution or (equivalently via the Riesz–Markov–Kakutani representation theorem) as a measure (cf. [Rudin, W. (1987)](https://perso.telecom-paristech.fr/decreuse/_downloads/c22155fef582344beb326c1f44f437d2/rudin.pdf)). This distinction leads us to define $f(y)$ in terms of its associated distribution\n",
        "\\begin{equation}\n",
        "\\langle \\varphi, f \\rangle = \\int_{\\Omega_Y} \\varphi \\tilde{f}(y) dy + \\int_{\\Omega_Y} \\varphi d \\mu(y),\n",
        "\\end{equation}\n",
        "where $\\tilde{f}(y) \\in L^1(\\Omega_Y)$ is a density associated with the elements, $\\mu(y)$ a measure associated with the element facets and $\\varphi \\in C_0(\\Omega_Y)$ a continuous test function with compact support and uniform convergence."
      ]
    },
    {
      "attachments": {},
      "cell_type": "markdown",
      "metadata": {},
      "source": [
        "To recover $\\tilde{f}$ within each element, we define the function space $V_{\\tilde{f}} $ of $\\tilde{f}(y)$ to be\n",
        "\\begin{equation*}\n",
        "    \\tilde{f} \\in V_{\\tilde{f}} \\subset L^1(\\Omega_Y), \\quad \\text{where} \\quad \\tilde{f}:\\Omega_Y \\to \\mathbb{R}^+ \\quad \\text{s.t.} \\; \\int_{\\Omega_Y} |\\tilde{f}| dy < \\infty,\n",
        "\\end{equation*}\n",
        "followed by a set of basis functions $V_{\\tilde{f}} = span\\{\\varphi_i(y)\\}$ such that\n",
        "\\begin{equation*}\n",
        "    \\tilde{f}(y) = \\sum_i \\tilde{f}_i \\varphi_i(y).\n",
        "\\end{equation*}\n",
        "We then define the projection in each element $e$ as\n",
        "\\begin{equation*}\n",
        "    \\int_{e} \\varphi_e \\tilde{f}(y) \\; dy = \\int_{e} \\varphi_e \\partial_y F(y) \\; dy, \\quad \\text{where} \\quad \\varphi_e \\in V_{e},\n",
        "\\end{equation*}\n",
        "which upon integrating over all cells $\\sum_e \\int_e \\cdot \\; dy = \\int_{\\Omega_Y} \\cdot \\; dy$ and accounting for the fact that facets in $L^1(\\Omega_Y)$ have measure zero gives\n",
        "\\begin{equation*}\n",
        "    \\int_{\\Omega_Y} v \\tilde{f}(y) \\; dy = \\int_{\\Omega_Y} v \\partial_y F(y) \\; dy, \\quad \\text{where} \\quad v \\in V_{\\tilde{f}}.\n",
        "\\end{equation*}"
      ]
    },
    {
      "attachments": {},
      "cell_type": "markdown",
      "metadata": {},
      "source": [
        "To recover $\\mu(y)$ we consider that at each facet $y_e$ there is a jump in the CDF given by $[[F]]_e = F_+ - F_-$, where the subscripts $+/-$ are used to denote the value of $F(y_e)$ approaching from the right/left. Restricting ourselves to a single facet $\\partial e$ we define the distributional derivative by\n",
        "\\begin{equation*}\n",
        "\\int_{\\partial e} \\varphi \\partial_y F \\; dy = -\\int_{\\partial e} (\\partial_y \\varphi)  F \\; dy,\n",
        "\\end{equation*}\n",
        "for all compactly supported test functions $\\varphi \\in C_0(\\Omega_Y)$ which have uniform convergence (cf. [Ern, A., Guermond, JL. (2021)](https://doi.org/10.1007/978-3-030-56341-7_4)). Evaluating the previous integral from the left and the right of an arbitrary facet for $\\epsilon > 0$\n",
        "\\begin{equation*}\n",
        "\\int_{\\partial e} \\varphi \\partial_y F \\; dy = \\int_{y_e - \\epsilon}^{y_e} ( \\partial_y \\varphi) F \\; dy - \\int_{y_e}^{y_e + \\epsilon} ( \\partial_y \\varphi) F \\; dy,\n",
        "\\end{equation*}\n",
        "and then taking the limit $\\epsilon \\to 0$ we obtain\n",
        "\\begin{equation*}\n",
        "\\int_{\\partial e} \\varphi \\partial_y F \\; dy = F_- \\int_{y_e - \\epsilon}^{y_e} \\partial_y \\varphi \\; dy - F_+ \\int_{y_e}^{y_e + \\epsilon} \\partial_y \\varphi \\; dy = - [[F]]_e \\varphi(y_e),\n",
        "\\end{equation*}\n",
        "which we can rewrite in terms of the delta distribution as\n",
        "\\begin{equation*}\n",
        "\\int_{\\partial e} \\varphi \\partial_y F \\; dy = - [[F]]_e \\int_{\\partial e} \\varphi(y) \\delta(y - y_e) dy.\n",
        "\\end{equation*}\n",
        "By the Riesz–Markov–Kakutani representation theorem it follows that a zero order distribution (which includes the delta distribution) can be identified with a measure. To this end we can re-write the distributional derivative over all the cell facets as \n",
        "\\begin{equation*}\n",
        "\\int_{\\Gamma} \\varphi \\partial_y F \\; dS = \\int_{\\Gamma} \\varphi(y) d \\mu(y),\n",
        "\\end{equation*}\n",
        "where $\\Gamma = \\cup \\; \\partial \\Omega_e$ and the measure $\\mu$ is defined in terms of the Dirac measure\n",
        "\\begin{equation*}\n",
        "\\delta(y_e) = \\begin{cases} 1 \\quad y_e \\in \\Gamma, \\\\ 0 \\quad \\text{otherwise}, \\end{cases}\n",
        "\\end{equation*}\n",
        "as $\\mu(y) = -[[F(y)]] \\delta(y)$. Defining the PDF $f(y)$ in terms of distribution thus provides a mathematically consistent formulation which allows us to ensure that the projection of derivative of the CDF does not loose mass and enables us to accurately calculate moments of the PDF."
      ]
    },
    {
      "attachments": {},
      "cell_type": "markdown",
      "metadata": {},
      "source": [
        "**B) Numerical implementation**\n",
        "\n",
        "To demonstrate our method of recovering $\\tilde{f}$ and the measure $\\mu(y)$ associated with the cell facets we will make use of the function \n",
        "\\begin{equation}\n",
        "Y(x_1) = \\begin{cases} 0 \\quad x_1 < 0, \\\\ x \\quad x_1 \\geq 0, \\end{cases} \n",
        "\\end{equation}\n",
        "where $x_1 \\in [-1,1]$. This function is useful because its CDF contains a step and therefore its corresponding PDF will contain a Dirac distribution. To simplify the presentation we use the *NumDF* library (imported below) which implements the methods used in **Part 1**. "
      ]
    },
    {
      "cell_type": "code",
      "execution_count": 2,
      "metadata": {},
      "outputs": [],
      "source": [
        "from numdf import Ptp\n",
        "import numpy as np\n",
        "from firedrake import *"
      ]
    },
    {
      "attachments": {},
      "cell_type": "markdown",
      "metadata": {},
      "source": [
        "We begin by creating an instance of the *Ptp* class by specify the physical domain $\\Omega_X$, the domain of the CDF $\\Omega_Y$ and a number of elements. As justified in Part1 a discontinuous piecewise linear 'DG1' function space is selected by default for the CDF."
      ]
    },
    {
      "cell_type": "code",
      "execution_count": 3,
      "metadata": {},
      "outputs": [],
      "source": [
        "# Specify the domain sizes and number of elements\n",
        "ptp = Ptp(Omega_X = {'x1': (-1, 1)}, Omega_Y = {'Y': (-1, 1)}, n_elements=10)"
      ]
    },
    {
      "attachments": {},
      "cell_type": "markdown",
      "metadata": {},
      "source": [
        "We then specify our function $Y(x_1)$ in terms of the coordinates of the domain and generate its CDF by calling the fit method."
      ]
    },
    {
      "cell_type": "code",
      "execution_count": 4,
      "metadata": {},
      "outputs": [],
      "source": [
        "# Extract the coordinates\n",
        "x1 = ptp.x_coords()\n",
        "Y = conditional(ge(x1, 0), x1, 0)\n",
        "density = ptp.fit(Y=Y, quadrature_degree=200)"
      ]
    },
    {
      "attachments": {},
      "cell_type": "markdown",
      "metadata": {},
      "source": [
        "Using the density object we can then plot the CDF, which contains a step at $y=0$."
      ]
    },
    {
      "cell_type": "code",
      "execution_count": 5,
      "metadata": {},
      "outputs": [
        {
          "data": {
            "image/png": "[encoded data removed]",
            "text/plain": [
              "<Figure size 640x480 with 1 Axes>"
            ]
          },
          "metadata": {},
          "output_type": "display_data"
        }
      ],
      "source": [
        "density.plot('CDF')"
      ]
    },
    {
      "attachments": {},
      "cell_type": "markdown",
      "metadata": {},
      "source": [
        "We first compute the projection of $\\partial_y F(y)$ into $L^1(\\Omega_Y)$ by specifying a discontinuous piecewise constant function space $V_{\\tilde{f}}$ for $\\tilde{f}(y)$ also known as 'DG0'. This choice naturally follows from the fact that $F(y)$ lives in 'DG1' and so its derivative should live in the lower order space 'DG0'."
      ]
    },
    {
      "cell_type": "code",
      "execution_count": 11,
      "metadata": {
        "colab": {
          "base_uri": "https://localhost:8080/",
          "height": 472
        },
        "id": "GjsOBMvRW_iC",
        "outputId": "fe4aa83d-0c2a-4564-d135-fd2695ffeceb"
      },
      "outputs": [],
      "source": [
        "def compute_f_tilde_pdf(F):\n",
        "    \"\"\"Compute f_tilde(y) as the derivative of CDF F(y) within the elements.\"\"\"\n",
        "\n",
        "    # Grab the mesh associated with the CDF\n",
        "    mesh = F.function_space().mesh()\n",
        "\n",
        "    # Define a function space for the PDF\n",
        "    V_f_tilde = FunctionSpace(mesh=mesh,family=\"DG\",degree=0);\n",
        "\n",
        "    u = TrialFunction(V_f_tilde)\n",
        "    v = TestFunction(V_f_tilde)\n",
        "\n",
        "    # Define the variational form\n",
        "    a = inner(u,v)*dx\n",
        "    L = inner(F.dx(0),v)*dx\n",
        "\n",
        "    # Solve for f_tilde\n",
        "    f_tilde = Function(V_f_tilde)\n",
        "    solve(a == L, f_tilde)\n",
        "    \n",
        "    return f_tilde"
      ]
    },
    {
      "attachments": {},
      "cell_type": "markdown",
      "metadata": {},
      "source": [
        "To realise the measure $\\mu(y) = [[F(y)]]\\delta(y)$ associated with the jump discontinuities at each facet, we can project the distribution into the space of continuous functions 'CG1' whose basis\n",
        "\\begin{equation}\n",
        "\\varphi_i(y_j) = \\delta_{ij}, \\quad \\delta_{ij} = \\begin{cases} 1 \\quad i = j, \\\\ 0 \\quad i \\neq j, \\end{cases}\n",
        "\\end{equation}\n",
        "if restricted to the set of cell facets naturally represents our measure. To compute $[[F]]_e$ we make use of the $\\texttt{jump}$ operator (part of the UFL form language) which evaluates the difference between the restrictions of the given expression on the positive and negative sides of the facet. The restriction to the cell facets is implemented by making use of the interior and exterior measures $\\texttt{dS}$ and $\\texttt{ds}$. At the exterior facets we impose the boundary condition $F(y_{min}) = 0, \\; F(y_{max}) = 1$ in order to evaluate the jump and finally the $\\texttt{avg}$ operator used below is also required when using $\\texttt{dS}, \\texttt{ds}$."
      ]
    },
    {
      "cell_type": "code",
      "execution_count": 12,
      "metadata": {},
      "outputs": [],
      "source": [
        "def compute_mu_pdf(F):\n",
        "    \"\"\"Compute the measure mu(y) as the distributional derivative of CDF F(y) at the element facets.\"\"\"\n",
        "\n",
        "    # Grab the mesh associated with the CDF\n",
        "    mesh = F.function_space().mesh()\n",
        "    \n",
        "    # Define a function space for the test function\n",
        "    V_mu = FunctionSpace(mesh=mesh, family=\"CG\", degree=1)\n",
        "\n",
        "    u = TrialFunction(V_mu)\n",
        "    v = TestFunction(V_mu)\n",
        "\n",
        "    # Define the variational form for the:\n",
        "    #      interior facets                 exterior facets\n",
        "    a = inner(avg(u),avg(v))*dS  +          inner(u,v)*ds\n",
        "    L = -jump(F)*avg(v)*dS       -  ( (F-1)*v*ds(2) - (F-0)*v*ds(1) )\n",
        "\n",
        "    # Solve for the measure\n",
        "    mu = Function(V_mu)\n",
        "    solve(a == L, mu)\n",
        "\n",
        "    return mu"
      ]
    },
    {
      "attachments": {},
      "cell_type": "markdown",
      "metadata": {},
      "source": [
        "Having defined these two functions we then pass the CDF computed in order to recover the distribution $f(y)$ in terms of $\\tilde{f}(y)$ and the measure $\\mu(y)$."
      ]
    },
    {
      "cell_type": "code",
      "execution_count": 8,
      "metadata": {},
      "outputs": [],
      "source": [
        "# Compute the f_tilde(y) within the elements\n",
        "f_tilde = compute_f_tilde_pdf(density.cdf)\n",
        "\n",
        "# Compute the measure mu(y) at the element boundaries\n",
        "mu = compute_mu_pdf(density.cdf)"
      ]
    },
    {
      "attachments": {},
      "cell_type": "markdown",
      "metadata": {},
      "source": [
        "Below we plot $\\tilde{f}(y)$ and represent the measure $\\mu(y)$ in terms of the dashed blue lines. "
      ]
    },
    {
      "cell_type": "code",
      "execution_count": 9,
      "metadata": {},
      "outputs": [
        {
          "data": {
            "image/png": "[encoded data removed]",
            "text/plain": [
              "<Figure size 640x480 with 1 Axes>"
            ]
          },
          "metadata": {},
          "output_type": "display_data"
        }
      ],
      "source": [
        "import matplotlib.pyplot as plt\n",
        "from firedrake.pyplot import plot\n",
        "\n",
        "# Plot the piecewise constant component\n",
        "plot(f_tilde, num_sample_points=50)\n",
        "\n",
        "# Plot the measure mu(y)\n",
        "m_y = mu.function_space().mesh()\n",
        "loc = m_y.coordinates.dat.data[:]\n",
        "jump = mu.dat.data[:]\n",
        "\n",
        "y = np.linspace(0,1,50)\n",
        "for j_i,y_i in zip(jump,loc): \n",
        "    plt.plot(y_i*np.ones(50),j_i*y,'b--')\n",
        "    if abs(j_i) > 1e-03: plt.plot(y_i,j_i,'ro')\n",
        "\n",
        "# Label the plot\n",
        "plt.title(r'PDF',fontsize=20)\n",
        "plt.ylabel(r'$f_Y$',fontsize=20)\n",
        "plt.xlabel(r'$y$',fontsize=20)\n",
        "plt.tight_layout()\n",
        "plt.grid()\n",
        "plt.show()"
      ]
    },
    {
      "attachments": {},
      "cell_type": "markdown",
      "metadata": {},
      "source": [
        "Finally to check that this projection has conserved mass we integrate the distribution $f(y)$ below"
      ]
    },
    {
      "cell_type": "code",
      "execution_count": 10,
      "metadata": {},
      "outputs": [
        {
          "name": "stdout",
          "output_type": "stream",
          "text": [
            "Without Dirac measure int f(y) dy = 4.989310e-01\n",
            "With Dirac measure int f(y) dy + \\int d\\mu(y) = 1.000000e+00\n"
          ]
        }
      ],
      "source": [
        "#                 elements     external    internal\n",
        "int_f = assemble(f_tilde*dx  +  mu*ds    + avg(mu)*dS)\n",
        "\n",
        "print('int f_tilde(y) dy + \\int d\\mu(y) = %e' % int_f)"
      ]
    },
    {
      "attachments": {},
      "cell_type": "markdown",
      "metadata": {},
      "source": [
        "In **Part 1** a discontinuous piecewise linear function space 'DG1' for $F(y)$ was justified by the need to maintain a non-decreasing and right-continuous function, which can be achieved by applying a slope limiter more easily for 'DG1' than for other higher order elements. Although this would be also guaranteed by choosing the space of piece-wise constant discontinuous functions 'DG0', the cell integral and the boundary terms in the previous equation would cancel, meaning that an additional approximation would need to be introduced in order to recover the PDF at these points. By choosing 'DG1' this issue is avoided and as evidenced by this notebook, 'DG1' also provides a convenient means for recovering the PDF (which may include a Dirac distribution) in a consistent fashion. One consequence of this definition of the PDF we must however bear in mind, is that we can only integrate $f(y)$ against test functions."
      ]
    }
  ],
  "metadata": {
    "colab": {
      "authorship_tag": "ABX9TyMRaswWWBGz0+Ot/OMH9pPe",
      "include_colab_link": true,
      "provenance": []
    },
    "kernelspec": {
      "display_name": "firedrake",
      "language": "python",
      "name": "python3"
    },
    "language_info": {
      "codemirror_mode": {
        "name": "ipython",
        "version": 3
      },
      "file_extension": ".py",
      "mimetype": "text/x-python",
      "name": "python",
      "nbconvert_exporter": "python",
      "pygments_lexer": "ipython3",
      "version": "3.10.14"
    },
    "vscode": {
      "interpreter": {
        "hash": "ae5168414ba30101a1875b7b0dfc4869f22e981c658fb91a3978d3751a99c394"
      }
    }
  },
  "nbformat": 4,
  "nbformat_minor": 0
}
