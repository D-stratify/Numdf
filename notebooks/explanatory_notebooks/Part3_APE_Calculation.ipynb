{
 "cells": [
  {
   "cell_type": "code",
   "execution_count": 11,
   "metadata": {},
   "outputs": [],
   "source": [
    "# !apt-get update --fix-missing\n",
    "\n",
    "# try:\n",
    "#     import firedrake\n",
    "# except ImportError:\n",
    "#     !wget \"https://fem-on-colab.github.io/releases/firedrake-install-real.sh\" -O \"/tmp/firedrake-install.sh\" && bash \"/tmp/firedrake-install.sh\"\n",
    "#     import firedrake"
   ]
  },
  {
   "cell_type": "markdown",
   "metadata": {},
   "source": [
    "The available potential energy (APE) of a buoyancy field $B(\\boldsymbol{x})$ of vertical extent $Z(\\boldsymbol{x})$ is given by the difference of its actual potential energy and the (minimal) potential energy \n",
    "\\begin{equation}\n",
    "\\mathbb{E}[BZ^*]  - \\mathbb{E}[BZ] = \\iint b \\left(Z^*(b) -z \\right) \\; f_{BZ}(b,z) \\; dbdz,\n",
    "\\end{equation}\n",
    "where the reference state\n",
    "\\begin{equation}\n",
    "Z^*(b) = F^{-1}_Z \\circ F_B(b) = Q_Z \\circ F_B(b),\n",
    "\\end{equation}\n",
    "corresponds to an adiabatic volume preserving rearrangement of the fluid into a state that minimises PE. To calculate this quantity therefore requires an estimation of the buoyancy's PDF $f_B$, CDF $F_B$ as well as the vertical cordinate's QDF $Q_Z = F_Z^{-1}$."
   ]
  },
  {
   "attachments": {},
   "cell_type": "markdown",
   "metadata": {},
   "source": [
    "As an example of a buoyancy field and potential we will consider\n",
    "\\begin{align}\n",
    "    B(x_1,x_2) &= x_2(1 - x_2)/2,\\\\\n",
    "    Z(x_1,x_2) &= x_2,\n",
    "\\end{align}\n",
    "such that the physical domain is given by $\\Omega_X \\in [-1,1] \\times [0,1]$, the buoyancy domain $\\Omega_B \\in [0,1/8]$ and that of the potential by $\\Omega_Z \\in [0,1]$. The parameter $\\epsilon$ will be used to swich on and off a more complicated functional dependency.\n",
    "\n",
    "To construct the buoyancy's PDF & CDF $f_B,F_B$ and the vertical cordinate's QDF $F_Z^{-1}$ we make use of the **PDF_Projector** class imported below."
   ]
  },
  {
   "cell_type": "code",
   "execution_count": 12,
   "metadata": {},
   "outputs": [],
   "source": [
    "from PDF_Projector import *"
   ]
  },
  {
   "cell_type": "markdown",
   "metadata": {},
   "source": [
    "We first set up the function spaces and domain of the buoyancy $B$"
   ]
  },
  {
   "cell_type": "code",
   "execution_count": 13,
   "metadata": {},
   "outputs": [],
   "source": [
    "# Set the domain & functions spaces\n",
    "ptp_B = FEptp(Omega_X = {'x1':(-1,1),'x2':(0,1)}, Omega_Y = {'Y':(0,1./8.0)}, N_elements=50)"
   ]
  },
  {
   "cell_type": "markdown",
   "metadata": {},
   "source": [
    "Using this domain we then compute the CDF and PDF of the buoyancy field, by calling the fit method."
   ]
  },
  {
   "cell_type": "code",
   "execution_count": 14,
   "metadata": {},
   "outputs": [
    {
     "name": "stdout",
     "output_type": "stream",
     "text": [
      "Calculated F(+∞) - F(-∞) should equal 1, got 9.624502e-01. Check the domain of Ω_Y and the quadrature_degree specified.\n",
      "Calculated ∫ f(y) dy should equal 1, but got 9.623099e-01. Check the quadrature_degree used. \n"
     ]
    },
    {
     "data": {
      "image/png": "[encoded data removed]",
      "text/plain": [
       "<Figure size 640x480 with 1 Axes>"
      ]
     },
     "metadata": {},
     "output_type": "display_data"
    }
   ],
   "source": [
    "# Construct the PDF,CDF,QDF\n",
    "x1,x2,_ = ptp_B.coords\n",
    "ptp_B.fit(function_Y = (x2/2)*(1 - x2), quadrature_degree=200) \n",
    "#ptp_B.fit(function_Y = (1 - x2), quadrature_degree=200) \n",
    "\n",
    "ptp_B.plot(function='CDF')"
   ]
  },
  {
   "cell_type": "markdown",
   "metadata": {},
   "source": [
    "To obtain the QDF of the co-ordinate field $Z$ we follow a similar procedure. Specifying first the function spaces and domain of the coordinate field followed by calling the fit method."
   ]
  },
  {
   "cell_type": "code",
   "execution_count": 15,
   "metadata": {},
   "outputs": [],
   "source": [
    "# Set the domain & function space\n",
    "ptp_Z = FEptp(Omega_X = {'x1':(-1,1),'x2':(0,1)}, Omega_Y = {'Y':(0,1)}, N_elements=10)\n",
    "\n",
    "# Construct the PDF,CDF,QDF\n",
    "x1,x2,_ = ptp_Z.coords\n",
    "ptp_Z.fit(function_Y = x2, quadrature_degree=100)"
   ]
  },
  {
   "cell_type": "markdown",
   "metadata": {},
   "source": [
    "Having obtained all necessary functions it remains to obtain the reference height $Z^*(b)$ and evaluate the integral to compute the APE. To obtain the reference height we construct a function Z_ref as below using a quadrature element. At the nodes of the quadrature element we shall evaluate the function composition $Z^*(b) = Q_Z \\circ F_B(b)$."
   ]
  },
  {
   "cell_type": "code",
   "execution_count": 16,
   "metadata": {},
   "outputs": [],
   "source": [
    "# Define a function space for Z_ref\n",
    "quadrature_degree = 10\n",
    "\n",
    "V_ZE    = FiniteElement(family=\"Quadrature\",cell=\"interval\",degree=quadrature_degree,quad_scheme='default')\n",
    "V_Z     = FunctionSpace(mesh=ptp_B.m_y ,family=V_ZE)\n",
    "Z_ref   = Function(V_Z)"
   ]
  },
  {
   "cell_type": "markdown",
   "metadata": {},
   "source": [
    "With the quadrature element defined we now grab the quadrature points $b_q$"
   ]
  },
  {
   "cell_type": "code",
   "execution_count": 17,
   "metadata": {},
   "outputs": [],
   "source": [
    "# First, grab the mesh.\n",
    "m = V_Z.mesh()\n",
    "\n",
    "# Now make the VectorFunctionSpace corresponding to V_Z.\n",
    "W = VectorFunctionSpace(m, V_Z.ufl_element())\n",
    "\n",
    "# Next, interpolate the coordinates onto the nodes of W.\n",
    "X = assemble(interpolate(m.coordinates, W))"
   ]
  },
  {
   "cell_type": "markdown",
   "metadata": {},
   "source": [
    "We now avail of a vertex only mesh in order to compute $F_q = F_B(b_q)$, the CDF evaluated at the quadrature points $b_q$. "
   ]
  },
  {
   "cell_type": "code",
   "execution_count": 18,
   "metadata": {},
   "outputs": [],
   "source": [
    "b_q = [ [b_i,] for b_i in X.dat.data[:]]\n",
    "vom = VertexOnlyMesh(ptp_B.m_y, b_q)\n",
    "\n",
    "# P0DG is the only function space you can make on a vertex-only mesh\n",
    "P0DG = FunctionSpace(vom, \"DG\", 0)\n",
    "\n",
    "# Interpolation performs point evaluation\n",
    "F = assemble(interpolate(ptp_B.F, P0DG))"
   ]
  },
  {
   "attachments": {},
   "cell_type": "markdown",
   "metadata": {},
   "source": [
    "And using the same methods again we compute $Q_q = Q_Z(F_q)$, QDF evaluated at the points $F_q = F_B(b_q)$."
   ]
  },
  {
   "cell_type": "code",
   "execution_count": 19,
   "metadata": {},
   "outputs": [],
   "source": [
    "F_q = [ [F_i,] for F_i in F.dat.data[:]]\n",
    "vom = VertexOnlyMesh(ptp_Z.m_p, F_q)\n",
    "\n",
    "# P0DG is the only function space you can make on a vertex-only mesh\n",
    "P0DG = FunctionSpace(vom, \"DG\", 0)\n",
    "\n",
    "# Interpolation performs point evaluation\n",
    "# [test_vertex_only_mesh_manual_example 2]\n",
    "Q_q = assemble(interpolate(ptp_Z.Q, P0DG))"
   ]
  },
  {
   "cell_type": "markdown",
   "metadata": {},
   "source": [
    "Finally we parse these values into the dofs of Z_ref"
   ]
  },
  {
   "cell_type": "code",
   "execution_count": 20,
   "metadata": {},
   "outputs": [],
   "source": [
    "Z_ref.dat.data[:] = Q_q.dat.data[:]"
   ]
  },
  {
   "cell_type": "markdown",
   "metadata": {},
   "source": [
    "To evaluate the background potential energy or BPE we can then integrate the expression\n",
    "\\begin{equation}\n",
    "\\mathbb{E}[BZ^*] = \\int b Z^*(b) f_{B}(b) \\; db\n",
    "\\end{equation}\n",
    "as implemented below"
   ]
  },
  {
   "cell_type": "code",
   "execution_count": 21,
   "metadata": {},
   "outputs": [
    {
     "name": "stdout",
     "output_type": "stream",
     "text": [
      "0.047430900221418576\n",
      "APE =  0.005764233554751905\n"
     ]
    }
   ],
   "source": [
    "# Calculate the BPE\n",
    "b,  = SpatialCoordinate(ptp_B.m_y)\n",
    "BPE = assemble( Z_ref*b*ptp_B.f*dx(degree=quadrature_degree) )\n",
    "\n",
    "print(BPE)\n",
    "\n",
    "# Calculate the TPE\n",
    "V   = 2\n",
    "TPE = (1/V)*assemble( x2*.5*(x2-x2**2)*dx ) # IC\n",
    "#TPE = (1/V)*assemble( x2*(1-x2)*dx ) # IC\n",
    "\n",
    "# Check the APE\n",
    "print('APE = ',BPE - TPE)"
   ]
  }
 ],
 "metadata": {
  "kernelspec": {
   "display_name": "firedrake",
   "language": "python",
   "name": "python3"
  },
  "language_info": {
   "codemirror_mode": {
    "name": "ipython",
    "version": 3
   },
   "file_extension": ".py",
   "mimetype": "text/x-python",
   "name": "python",
   "nbconvert_exporter": "python",
   "pygments_lexer": "ipython3",
   "version": "3.11.8 (main, Feb 12 2024, 14:50:05) [GCC 13.2.1 20230801]"
  },
  "vscode": {
   "interpreter": {
    "hash": "ae5168414ba30101a1875b7b0dfc4869f22e981c658fb91a3978d3751a99c394"
   }
  }
 },
 "nbformat": 4,
 "nbformat_minor": 2
}
