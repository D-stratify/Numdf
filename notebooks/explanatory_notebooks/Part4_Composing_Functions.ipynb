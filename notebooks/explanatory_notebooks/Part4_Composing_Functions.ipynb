{
 "cells": [
  {
   "attachments": {},
   "cell_type": "markdown",
   "metadata": {},
   "source": [
    "<a href=\"https://colab.research.google.com/github/mannixp/CHIST/blob/main/PDF_Construction_using_extruded_mesh.ipynb\" target=\"_parent\"><img src=\"https://colab.research.google.com/assets/colab-badge.svg\" alt=\"Open In Colab\"/></a>"
   ]
  },
  {
   "cell_type": "code",
   "execution_count": 11,
   "metadata": {},
   "outputs": [],
   "source": [
    "!apt-get update --fix-missing\n",
    "\n",
    "try:\n",
    "    import firedrake\n",
    "except ImportError:\n",
    "    !wget \"https://fem-on-colab.github.io/releases/firedrake-install-real.sh\" -O \"/tmp/firedrake-install.sh\" && bash \"/tmp/firedrake-install.sh\"\n",
    "    import firedrake"
   ]
  },
  {
   "attachments": {},
   "cell_type": "markdown",
   "metadata": {},
   "source": [
    "**Part 4 - Composing functions** \n",
    "\n",
    "Motivated by the calculation of available potential energy (APE) (cf. [Winters et al. JFM. (1995)](https://doi.org/10.1017/S002211209500125X) and [Tseng and Ferziger. Phys. Fluids. (2001)](https://doi.org/10.1063/1.1358307)), in this notebook we explain how the composition of functions is achieved by *NumDF*. The APE of a buoyancy field $B(\\mathbf{x})$ of vertical extent $Z(\\mathbf{x})$ is given by the difference of its potential energy (PE) and the background or reference potential energy \n",
    "\\begin{equation}\n",
    "\\mathbb{E}[BZ^*]  - \\mathbb{E}[BZ] = \\iint b \\left(Z^*(b) -z \\right) \\; f_{BZ}(b,z) \\; dbdz,\n",
    "\\end{equation}\n",
    "where the reference state\n",
    "\\begin{equation}\n",
    "Z^*(b) = F^{-1}_Z \\circ F_B(b) = Q_Z \\circ F_B(b),\n",
    "\\end{equation}\n",
    "corresponds to an adiabatic volume preserving rearrangement of the fluid into a state that minimizes PE. To calculate this quantity therefore requires an estimation of the buoyancy field's PDF and CDF $f_B, F_B$, the vertical coordinate's QDF $Q_Z = F_Z^{-1}$ and an ability to compose these functions. \n",
    "\n",
    "As an example of a buoyancy field and potential we will consider\n",
    "\\begin{align}\n",
    "    B(x_1,x_2) &= x_2(1 - x_2)/2,\\\\\n",
    "    Z(x_1,x_2) &= x_2,\n",
    "\\end{align}\n",
    "such that the physical domain is given by $\\Omega_X \\in [-1,1] \\times [0,1]$, the buoyancy domain $\\Omega_B \\in [0,1/8]$ and that of the potential by $\\Omega_Z \\in [0,1]$. \n",
    "\n",
    "To construct the buoyancy's PDF & CDF $f_B,F_B$ and the vertical coordinate's QDF $F_Z^{-1}$ we make use of the **Ptp** class imported below."
   ]
  },
  {
   "cell_type": "code",
   "execution_count": 1,
   "metadata": {},
   "outputs": [],
   "source": [
    "from numdf import Ptp\n",
    "from firedrake import *\n",
    "from firedrake.__future__ import interpolate"
   ]
  },
  {
   "cell_type": "markdown",
   "metadata": {},
   "source": [
    "We first set up the domain of the buoyancy $B$"
   ]
  },
  {
   "cell_type": "code",
   "execution_count": 2,
   "metadata": {},
   "outputs": [],
   "source": [
    "ptp_B = Ptp(Omega_X={'x1': (-1, 1),'x2': (0, 1)}, Omega_Y={'Y': (0, 1/8)}, n_elements=50)"
   ]
  },
  {
   "cell_type": "markdown",
   "metadata": {},
   "source": [
    "Using this domain we then compute the CDF and PDF of the buoyancy field, by calling the fit method."
   ]
  },
  {
   "cell_type": "code",
   "execution_count": 3,
   "metadata": {},
   "outputs": [
    {
     "data": {
      "image/png": "[encoded data removed]",
      "text/plain": [
       "<Figure size 640x480 with 1 Axes>"
      ]
     },
     "metadata": {},
     "output_type": "display_data"
    }
   ],
   "source": [
    "# Construct the PDF,CDF,QDF\n",
    "x1,x2 = ptp_B.x_coords()\n",
    "density_B = ptp_B.fit(Y=(x2/2)*(1 - x2), quadrature_degree=400) \n",
    "density_B.plot(function='CDF')"
   ]
  },
  {
   "cell_type": "markdown",
   "metadata": {},
   "source": [
    "To obtain the QDF of the co-ordinate field $Z$ we follow a similar procedure."
   ]
  },
  {
   "cell_type": "code",
   "execution_count": 4,
   "metadata": {},
   "outputs": [],
   "source": [
    "# Set the domain & function space\n",
    "ptp_Z = Ptp(Omega_X={'x1': (-1, 1),'x2': (0, 1)}, Omega_Y={'Y': (0, 1)}, n_elements=10)\n",
    "\n",
    "# Construct the PDF,CDF,QDF\n",
    "x1,x2 = ptp_Z.x_coords()\n",
    "density_Z = ptp_Z.fit(Y=x2, quadrature_degree=100)"
   ]
  },
  {
   "cell_type": "markdown",
   "metadata": {},
   "source": [
    "Having obtained all necessary functions it remains to obtain the reference height $Z^*(b)$ and evaluate the integral to compute the APE. To obtain the reference height we construct a function Z_ref as below using a quadrature element. At the nodes of the quadrature element we shall evaluate the function composition $Z^*(b) = Q_Z \\circ F_B(b)$."
   ]
  },
  {
   "cell_type": "code",
   "execution_count": 5,
   "metadata": {},
   "outputs": [],
   "source": [
    "# Define a function space for Z_ref\n",
    "quadrature_degree = 10\n",
    "\n",
    "mesh_F = density_B.cdf.function_space().mesh()\n",
    "mesh_Q = density_Z.qdf.function_space().mesh()\n",
    "\n",
    "V_ZE    = FiniteElement(family=\"Quadrature\",cell=\"interval\",degree=quadrature_degree,quad_scheme='default')\n",
    "V_Z     = FunctionSpace(mesh=mesh_F ,family=V_ZE)\n",
    "Z_ref   = Function(V_Z)"
   ]
  },
  {
   "cell_type": "markdown",
   "metadata": {},
   "source": [
    "With the quadrature element defined we now grab the quadrature points $b_q$"
   ]
  },
  {
   "cell_type": "code",
   "execution_count": 6,
   "metadata": {},
   "outputs": [],
   "source": [
    "# First, grab the mesh.\n",
    "m = V_Z.mesh()\n",
    "\n",
    "# Now make the VectorFunctionSpace corresponding to V_Z.\n",
    "W = VectorFunctionSpace(m, V_Z.ufl_element())\n",
    "\n",
    "# Next, interpolate the coordinates onto the nodes of W.\n",
    "X = assemble(interpolate(m.coordinates, W))"
   ]
  },
  {
   "cell_type": "markdown",
   "metadata": {},
   "source": [
    "We now avail of a vertex only mesh in order to compute $F_q = F_B(b_q)$, the CDF evaluated at the quadrature points $b_q$. "
   ]
  },
  {
   "cell_type": "code",
   "execution_count": 7,
   "metadata": {},
   "outputs": [],
   "source": [
    "b_q = [ [b_i,] for b_i in X.dat.data[:]]\n",
    "vom = VertexOnlyMesh(mesh_F, b_q)\n",
    "\n",
    "# P0DG is the only function space you can make on a vertex-only mesh\n",
    "P0DG = FunctionSpace(vom, \"DG\", 0)\n",
    "\n",
    "# Interpolation performs point evaluation\n",
    "F = assemble(interpolate(density_B.cdf, P0DG))"
   ]
  },
  {
   "attachments": {},
   "cell_type": "markdown",
   "metadata": {},
   "source": [
    "And using the same methods again we compute $Q_q = Q_Z(F_q)$, QDF evaluated at the points $F_q = F_B(b_q)$."
   ]
  },
  {
   "cell_type": "code",
   "execution_count": 8,
   "metadata": {},
   "outputs": [],
   "source": [
    "F_q = [ [F_i,] for F_i in F.dat.data[:]]\n",
    "vom = VertexOnlyMesh(mesh_Q, F_q)\n",
    "\n",
    "# P0DG is the only function space you can make on a vertex-only mesh\n",
    "P0DG = FunctionSpace(vom, \"DG\", 0)\n",
    "\n",
    "# Interpolation performs point evaluation\n",
    "# [test_vertex_only_mesh_manual_example 2]\n",
    "Q_q = assemble(interpolate(density_Z.qdf, P0DG))"
   ]
  },
  {
   "cell_type": "markdown",
   "metadata": {},
   "source": [
    "Finally we parse these values into the dofs of Z_ref"
   ]
  },
  {
   "cell_type": "code",
   "execution_count": 9,
   "metadata": {},
   "outputs": [],
   "source": [
    "Z_ref.dat.data[:] = Q_q.dat.data[:]"
   ]
  },
  {
   "cell_type": "markdown",
   "metadata": {},
   "source": [
    "To evaluate the background potential energy or BPE we can then integrate the expression\n",
    "\\begin{equation}\n",
    "\\mathbb{E}[BZ^*] = \\int b Z^*(b) f_{B}(b) \\; db\n",
    "\\end{equation}\n",
    "as implemented below"
   ]
  },
  {
   "cell_type": "code",
   "execution_count": 10,
   "metadata": {},
   "outputs": [],
   "source": [
    "# Calculate the BPE\n",
    "b = density_B.y\n",
    "f = density_B.pdf\n",
    "BPE = assemble( Z_ref*b*f*dx(degree=quadrature_degree) )\n",
    "\n",
    "# Calculate the TPE\n",
    "V   = 2\n",
    "TPE = (1/V)*assemble( x2*.5*(x2-x2**2)*dx ) # IC\n",
    "\n",
    "# Calculate the APE\n",
    "APE = BPE - TPE"
   ]
  }
 ],
 "metadata": {
  "kernelspec": {
   "display_name": "firedrake",
   "language": "python",
   "name": "python3"
  },
  "language_info": {
   "codemirror_mode": {
    "name": "ipython",
    "version": 3
   },
   "file_extension": ".py",
   "mimetype": "text/x-python",
   "name": "python",
   "nbconvert_exporter": "python",
   "pygments_lexer": "ipython3",
   "version": "3.10.14 (main, Jun 19 2024, 15:25:41) [GCC 14.1.1 20240522]"
  },
  "vscode": {
   "interpreter": {
    "hash": "ae5168414ba30101a1875b7b0dfc4869f22e981c658fb91a3978d3751a99c394"
   }
  }
 },
 "nbformat": 4,
 "nbformat_minor": 2
}
