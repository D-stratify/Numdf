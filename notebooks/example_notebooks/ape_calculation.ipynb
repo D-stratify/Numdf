{
 "cells": [
  {
   "cell_type": "markdown",
   "metadata": {},
   "source": [
    "**Example Available potential energy (APE)**\n",
    "\n",
    "The available potential energy (APE) of a buoyancy field $B(\\boldsymbol{x})$ of vertical extent $Z(\\boldsymbol{x})$ is given by the difference of its actual potential energy and the (minimal) potential energy \n",
    "\\begin{equation}\n",
    "\\mathbb{E}[BZ^*]  - \\mathbb{E}[BZ] = \\iint b \\left(Z^*(b) -z \\right) \\; f_{BZ}(b,z) \\; dbdz,\n",
    "\\end{equation}\n",
    "where the reference state\n",
    "\\begin{equation}\n",
    "Z^*(b) = F^{-1}_Z \\circ F_B(b) = Q_Z \\circ F_B(b),\n",
    "\\end{equation}\n",
    "corresponds to an adiabatic volume preserving rearrangement of the fluid into a state that minimises PE. To calculate this quantity therefore requires an estimation of the buoyancy's PDF $f_B$, CDF $F_B$ as well as the vertical cordinate's QDF $Q_Z = F_Z^{-1}$."
   ]
  },
  {
   "cell_type": "markdown",
   "metadata": {},
   "source": [
    "As an example of a buoyancy field and potential we will consider\n",
    "\\begin{align}\n",
    "    B(x_1,x_2) &= 4x_2(1 - x_2),\\\\\n",
    "    Z(x_1,x_2) &= x_2,\n",
    "\\end{align}\n",
    "such that the physical domain is given by $\\Omega_X \\in [-1,1] \\times [0,1]$, the buoyancy domain $\\Omega_B \\in [0,1]$ and that of the potential by $\\Omega_Z \\in [0,1]$. \n",
    "\n",
    "To construct the buoyancy's PDF & CDF $f_B,F_B$ and the vertical cordinate's QDF $F_Z^{-1}$ we make use of the **Ptp** class imported below."
   ]
  },
  {
   "cell_type": "code",
   "execution_count": 31,
   "metadata": {},
   "outputs": [],
   "source": [
    "from chist import Ptp\n",
    "from firedrake import *"
   ]
  },
  {
   "cell_type": "markdown",
   "metadata": {},
   "source": [
    "We first initialise a Ptp object by prescribing the domain $\\Omega_X$, range $\\Omega_Y$ and the number of finite elements/bins we will use."
   ]
  },
  {
   "cell_type": "code",
   "execution_count": 32,
   "metadata": {},
   "outputs": [],
   "source": [
    "ptp = Ptp(Omega_X={'x1': (-1, 1), 'x2': (0, 1)}, Omega_Y={'Y': (0, 1)}, n_elements=50)"
   ]
  },
  {
   "cell_type": "markdown",
   "metadata": {},
   "source": [
    "We then grab the coordinate functions and write our fields $B$ and $Z$ in terms of these"
   ]
  },
  {
   "cell_type": "code",
   "execution_count": 40,
   "metadata": {},
   "outputs": [],
   "source": [
    "x1, x2 = ptp.x_coords()\n",
    "\n",
    "B = 4*x2*(1-x2)\n",
    "Z = x2"
   ]
  },
  {
   "cell_type": "markdown",
   "metadata": {},
   "source": [
    "For each of these fields we have just created we now create their associated density objects by calling the fit method"
   ]
  },
  {
   "cell_type": "code",
   "execution_count": 41,
   "metadata": {},
   "outputs": [],
   "source": [
    "density_B = ptp.fit(Y=B, quadrature_degree=400)\n",
    "density_Z = ptp.fit(Y=Z, quadrature_degree=200)"
   ]
  },
  {
   "cell_type": "markdown",
   "metadata": {},
   "source": [
    "Plotting their respective cdf's below we can confirm that two distinct density objects have been created."
   ]
  },
  {
   "cell_type": "code",
   "execution_count": null,
   "metadata": {},
   "outputs": [],
   "source": [
    "density_B.plot('CDF')\n",
    "density_Z.plot('CDF')"
   ]
  },
  {
   "cell_type": "markdown",
   "metadata": {},
   "source": [
    "\n",
    "To obtain the reference height $Z^*(b)$ we evaluate the function composition $Z^*(b) = Q_Z \\circ F_B(b)$, at a number of quadrature points, using the compose method associated with the density class"
   ]
  },
  {
   "cell_type": "code",
   "execution_count": 43,
   "metadata": {},
   "outputs": [],
   "source": [
    "Q_Z = density_Z.cdf\n",
    "F_B = density_B.cdf\n",
    "Z_star = density_B.compose(Q_Z, F_B, quadrature_degree=100)\n",
    "# Z_star = density_Z.compose(Q_Z, F_B, quadrature_degree=100)  # equivalent code"
   ]
  },
  {
   "cell_type": "markdown",
   "metadata": {},
   "source": [
    "Whilst the quadrature scheme is decided automatically we can increase the number of quadrature points by increasing the quadrature degree.\n",
    "\n",
    "To evaluate the background potential energy (bpe) we integrate the expression\n",
    "\\begin{equation}\n",
    "\\mathbb{E}[BZ^*] = \\int b Z^*(b) f_{B}(b) \\; db,\n",
    "\\end{equation}\n",
    "by using the inbuilt firedrake method *assemble()* to which we must pass the same quadrature degree as was used when evaluating the function composition."
   ]
  },
  {
   "cell_type": "code",
   "execution_count": 44,
   "metadata": {},
   "outputs": [],
   "source": [
    "b = density_B.y\n",
    "f_B = density_B.pdf\n",
    "bpe = assemble( b*Z_star*f_B*dx(degree=100) )"
   ]
  },
  {
   "cell_type": "markdown",
   "metadata": {},
   "source": [
    "To calculate the total potential energy (tpe) we evaluate the integral\n",
    "\\begin{equation}\n",
    "\\mathbb{E}[BZ] = -\\frac{1}{V}\\int B(X) Z(X) dX, \n",
    "\\end{equation}\n",
    "by integrating over $\\Omega_X$."
   ]
  },
  {
   "cell_type": "code",
   "execution_count": 45,
   "metadata": {},
   "outputs": [],
   "source": [
    "V = 2  # size of the domain\n",
    "tpe = -(1/V)*assemble( Z*B*dx )"
   ]
  },
  {
   "cell_type": "markdown",
   "metadata": {},
   "source": [
    "The available potential energy is then given by "
   ]
  },
  {
   "cell_type": "code",
   "execution_count": null,
   "metadata": {},
   "outputs": [],
   "source": [
    "ape = bpe + tpe\n",
    "print('ape = %f \\n' % ape)"
   ]
  },
  {
   "cell_type": "markdown",
   "metadata": {},
   "source": [
    "Repeating this calculation with $B = 1-x_2$, i.e. the conductive state of Rayleigh-B\\'enard convection which has $ape = 1/6$ we can verify our calculation. "
   ]
  }
 ],
 "metadata": {
  "kernelspec": {
   "display_name": "firedrake",
   "language": "python",
   "name": "python3"
  },
  "language_info": {
   "codemirror_mode": {
    "name": "ipython",
    "version": 3
   },
   "file_extension": ".py",
   "mimetype": "text/x-python",
   "name": "python",
   "nbconvert_exporter": "python",
   "pygments_lexer": "ipython3",
   "version": "3.10.12"
  }
 },
 "nbformat": 4,
 "nbformat_minor": 2
}
