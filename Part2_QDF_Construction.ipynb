{
 "cells": [
  {
   "cell_type": "code",
   "execution_count": 1,
   "metadata": {},
   "outputs": [],
   "source": [
    "# !apt-get update --fix-missing\n",
    "\n",
    "# try:\n",
    "#     import firedrake\n",
    "# except ImportError:\n",
    "#     !wget \"https://fem-on-colab.github.io/releases/firedrake-install-real.sh\" -O \"/tmp/firedrake-install.sh\" && bash \"/tmp/firedrake-install.sh\"\n",
    "#     import firedrake"
   ]
  },
  {
   "cell_type": "markdown",
   "metadata": {},
   "source": [
    "Having demosntrated how to construct the CDF $F_Y(y)$ of a random function $Y(\\boldsymbol{x})$ we now develop a means to obtain the inverse CDF $F^{-1}_Y(p)$ also known as the quantile density function or QDF $Q_Y(p)$. When estimating the available potential energy (APE) via the buoyancy PDF/CDF, the QDF of domain height is used to account for how much buoyancy is located at each height and thus forms an essential component of this calculation.\n",
    "\n",
    "To demonstrate our method of constructing the QDF, we choose the function $Y(x_1) = x$ on the interval $x_1 \\in [0,1]$. To further simplify the presentation we will use the **PDF_Projector** class (imported below) to obtain the CDF of this function."
   ]
  },
  {
   "cell_type": "code",
   "execution_count": 2,
   "metadata": {},
   "outputs": [],
   "source": [
    "from PDF_Projector import *"
   ]
  },
  {
   "cell_type": "markdown",
   "metadata": {},
   "source": [
    "We begin by creating an instance of the FEptp class specifying the function space of the CDF to be the piecewise linear discontinuous space \"DG1\". As we are interested in only the QDF $Q_Y(p) = F^{-1}_Y(p)$ the function space of the PDF is unimportant as we will not be using it here."
   ]
  },
  {
   "cell_type": "code",
   "execution_count": 3,
   "metadata": {},
   "outputs": [],
   "source": [
    "# Specify the function spaces for the CDF\n",
    "ptp = FEptp(func_space_CDF = {\"family\":\"DG\",\"degree\":1})"
   ]
  },
  {
   "cell_type": "markdown",
   "metadata": {},
   "source": [
    "With the function spaces set, we must then specify the phyiscal domain $\\Omega_X$, the domain of the CDF $\\Omega_Y$ and the number of elements we will use. This is done by calling the domain method"
   ]
  },
  {
   "cell_type": "code",
   "execution_count": 4,
   "metadata": {},
   "outputs": [
    {
     "name": "stdout",
     "output_type": "stream",
     "text": [
      "1D mesh\n"
     ]
    },
    {
     "name": "stderr",
     "output_type": "stream",
     "text": [
      "/home/pmannix/Dstratify/Finite_Element/firedrake/src/firedrake/firedrake/_deprecation.py:65: UserWarning: The use of `File` for output is deprecated, please update your code to use `VTKFile` from `firedrake.output`.\n",
      "  warn(\n"
     ]
    }
   ],
   "source": [
    "x1,y = ptp.domain(Omega_X = {'x1':(0,1)}, Omega_Y = {'Y':(0,1)}, N_elements=3)"
   ]
  },
  {
   "cell_type": "markdown",
   "metadata": {},
   "source": [
    "which returns the co-ordinates of the domain $x_1,y$. Armed with the co-ordinates we can then specify our function $Y(x_1)$ and generate the CDF & PDF by calling the fit method"
   ]
  },
  {
   "cell_type": "code",
   "execution_count": 5,
   "metadata": {},
   "outputs": [
    {
     "name": "stdout",
     "output_type": "stream",
     "text": [
      "Calculated ∫ f(y) dy should equal 1, but got 9.799796e-01. Check the quadrature_degree used. \n"
     ]
    }
   ],
   "source": [
    "ptp.fit(function_Y = x1, quadrature_degree=10)"
   ]
  },
  {
   "cell_type": "markdown",
   "metadata": {},
   "source": [
    "Once fitted we can then plot the CDF functions by calling the plot method"
   ]
  },
  {
   "cell_type": "code",
   "execution_count": 6,
   "metadata": {},
   "outputs": [
    {
     "data": {
      "image/png": "[encoded data removed]",
      "text/plain": [
       "<Figure size 640x480 with 1 Axes>"
      ]
     },
     "metadata": {},
     "output_type": "display_data"
    }
   ],
   "source": [
    "ptp.plot(function='CDF')"
   ]
  },
  {
   "cell_type": "markdown",
   "metadata": {},
   "source": [
    "By choosing a small number of elements and a similarly low order quadrature we have intentionally generated a poor approximation of the CDF, which although monotonically increasing this function is discontinous between cells. Importantly this example highlights that well mixed regions of the CDF exist for which one value of $y*$ has associated to it a range of probabilities $\\Omega^*_Y = [\\text{min}(F_Y(y*)),\\text{max}(F_Y(y*))]$. To obtain a consistent QDF we must therefore construct a function capable of mapping $Q_Y : \\Omega^*_Y \\to p$. "
   ]
  },
  {
   "cell_type": "markdown",
   "metadata": {},
   "source": [
    "A perfect candidate for the QDF is a discontinuous piecewise linear function $Q_Y(p)$ on a non-uniform mesh $\\Omega_p$, whose spacing is determined by the discontinuities of $F_Y$. We can therefore use the dofs $F_i = F(y_i)$ at the node values $y_i$ on the cell boundaries to prescribe the non-uniform mesh $\\Omega_p$ on which $Q_Y$ is defined."
   ]
  },
  {
   "cell_type": "code",
   "execution_count": 7,
   "metadata": {},
   "outputs": [
    {
     "name": "stdout",
     "output_type": "stream",
     "text": [
      "Ω_p cell boundaries =  [0.         0.0100102  0.32701903 0.38787271 0.61212729 0.67298097\n",
      " 0.9899898  1.        ]\n"
     ]
    }
   ],
   "source": [
    "# Construct the non-uniform domain Ω_p\n",
    "\n",
    "# Obtain dofs F_i = F(z_i) from the CDF\n",
    "F_i = ptp.F.dat.data[:] \n",
    "\n",
    "# We extend Ω_p to include the endpoints 0,1\n",
    "# As F(y=0) ≠ 0 & F(y=1) ≠ 1 due to numerical error  \n",
    "p   = np.hstack(( [0]     ,F_i,[1]       ))  \n",
    "\n",
    "# Make a 1D mesh whose vertices are given by the p values\n",
    "layers   = len(p[1:] - p[:-1]);\n",
    "ptp.m_p = UnitIntervalMesh(ncells=layers);\n",
    "ptp.m_p.coordinates.dat.data[:] = p[:]\n",
    "\n",
    "print('Ω_p cell boundaries = ',ptp.m_p.coordinates.dat.data[:])"
   ]
  },
  {
   "cell_type": "markdown",
   "metadata": {},
   "source": [
    "We then define the function $Q_Y(p)$ on this mesh, by using the function space $V_F$ as specified by the finite element *V_FE* whose details are printed below."
   ]
  },
  {
   "cell_type": "code",
   "execution_count": 8,
   "metadata": {},
   "outputs": [
    {
     "name": "stdout",
     "output_type": "stream",
     "text": [
      "<bound method WithGeometryBase.ufl_function_space of WithGeometry(FunctionSpace(<firedrake.mesh.MeshTopology object at 0x7f6b94eafc50>, FiniteElement('Discontinuous Lagrange', interval, 1, variant='equispaced'), name=None), Mesh(VectorElement(FiniteElement('Lagrange', interval, 1), dim=1), 29))>\n"
     ]
    }
   ],
   "source": [
    "# Create a function Q(p) on this mesh\n",
    "ptp.V_Q  = FunctionSpace(mesh=ptp.m_p,family=ptp.V_FE)\n",
    "ptp.Q    = Function(ptp.V_Q)\n",
    "\n",
    "print(ptp.V_Q.ufl_function_space)"
   ]
  },
  {
   "cell_type": "markdown",
   "metadata": {},
   "source": [
    "Set the values of the QDF $Q_Y(F_i) = Q_Y(F(y_i)) = y_i$ by passing it the coordinates of the CDF's mesh corresponding to each $F_i$."
   ]
  },
  {
   "cell_type": "code",
   "execution_count": 9,
   "metadata": {},
   "outputs": [],
   "source": [
    "# Extract the mesh coordinates of the CDF\n",
    "m_y = ptp.V_F.mesh()\n",
    "W   = VectorFunctionSpace(m_y, ptp.V_F.ufl_element())\n",
    "y_m = assemble(interpolate(m_y.coordinates, W)).dat.data\n",
    "\n",
    "# Double them to convert from mesh coordinates to DOFs\n",
    "y_i         = np.zeros(2*len(y_m))\n",
    "y_i[0:-1:2] = y_m\n",
    "y_i[1:  :2] = y_m\n",
    "\n",
    "# Append the coordinates of the boundaries\n",
    "y_l = m_y.coordinates.dat.data[ 0] # left endpoint\n",
    "y_r = m_y.coordinates.dat.data[-1] # right endpoint\n",
    "y_i = np.hstack(( [y_l],y_i,[y_r] )) \n",
    "\n",
    "# Assign Q(F_i) = y_i\n",
    "ptp.Q.dat.data[:] = y_i[:]"
   ]
  },
  {
   "cell_type": "markdown",
   "metadata": {},
   "source": [
    "Finally we can plot the QDF $Q_Y = F^{-1}_Y$ and compare it with its corresponding CDF $F_Y$"
   ]
  },
  {
   "cell_type": "code",
   "execution_count": null,
   "metadata": {},
   "outputs": [],
   "source": [
    "ptp.plot(function='CDF')\n",
    "ptp.plot(function='QDF')"
   ]
  }
 ],
 "metadata": {
  "kernelspec": {
   "display_name": "firedrake",
   "language": "python",
   "name": "python3"
  },
  "language_info": {
   "codemirror_mode": {
    "name": "ipython",
    "version": 3
   },
   "file_extension": ".py",
   "mimetype": "text/x-python",
   "name": "python",
   "nbconvert_exporter": "python",
   "pygments_lexer": "ipython3",
   "version": "3.11.9"
  }
 },
 "nbformat": 4,
 "nbformat_minor": 2
}
