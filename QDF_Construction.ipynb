{
  "nbformat": 4,
  "nbformat_minor": 0,
  "metadata": {
    "colab": {
      "provenance": [],
      "mount_file_id": "17McbdnOBT2yEd6uc6qkplwAkOPldqXMR",
      "authorship_tag": "ABX9TyNKcPVhXGL5NlbwHD2mH+Ym",
      "include_colab_link": true
    },
    "kernelspec": {
      "name": "python3",
      "display_name": "Python 3"
    },
    "language_info": {
      "name": "python"
    }
  },
  "cells": [
    {
      "cell_type": "markdown",
      "metadata": {
        "id": "view-in-github",
        "colab_type": "text"
      },
      "source": [
        "<a href=\"https://colab.research.google.com/github/mannixp/CHIST/blob/main/PDF_Construction_Importing_Data.ipynb\" target=\"_parent\"><img src=\"https://colab.research.google.com/assets/colab-badge.svg\" alt=\"Open In Colab\"/></a>"
      ]
    },
    {
      "cell_type": "code",
      "source": [
        "!apt-get update --fix-missing\n",
        "\n",
        "try:\n",
        "    import firedrake\n",
        "except ImportError:\n",
        "    !wget \"https://fem-on-colab.github.io/releases/firedrake-install-real.sh\" -O \"/tmp/firedrake-install.sh\" && bash \"/tmp/firedrake-install.sh\"\n",
        "    import firedrake\n",
        "\n",
        "try:\n",
        "    import google.colab  # noqa: F401\n",
        "except ImportError:\n",
        "    import pyvista as pv\n",
        "else:\n",
        "    !wget \"https://fem-on-colab.github.io/releases/vtk-install.sh\" -O \"/tmp/vtk-install.sh\" && bash \"/tmp/vtk-install.sh\"\n",
        "    import pyvista as pv\n",
        "\n",
        "# Seems that only static plotting is supported by colab at the moment\n",
        "pv.global_theme.jupyter_backend = \"static\"\n",
        "pv.global_theme.notebook = True\n",
        "pv.start_xvfb()\n",
        "#pv.set_jupyter_backend('trame')"
      ],
      "metadata": {
        "id": "eoPnd_A7SZum",
        "outputId": "67614496-ab47-4b86-c60d-2f0e3d7f5ce6",
        "colab": {
          "base_uri": "https://localhost:8080/"
        }
      },
      "execution_count": null,
      "outputs": [
        {
          "output_type": "stream",
          "name": "stdout",
          "text": [
            "\r0% [Working]\r            \rHit:1 https://developer.download.nvidia.com/compute/cuda/repos/ubuntu2204/x86_64  InRelease\n",
            "Hit:2 https://cloud.r-project.org/bin/linux/ubuntu jammy-cran40/ InRelease\n",
            "Hit:3 http://archive.ubuntu.com/ubuntu jammy InRelease\n",
            "Get:4 http://security.ubuntu.com/ubuntu jammy-security InRelease [110 kB]\n",
            "Get:5 http://archive.ubuntu.com/ubuntu jammy-updates InRelease [119 kB]\n",
            "Hit:6 https://ppa.launchpadcontent.net/c2d4u.team/c2d4u4.0+/ubuntu jammy InRelease\n",
            "Hit:7 https://ppa.launchpadcontent.net/deadsnakes/ppa/ubuntu jammy InRelease\n",
            "Hit:8 http://archive.ubuntu.com/ubuntu jammy-backports InRelease\n",
            "Hit:9 https://ppa.launchpadcontent.net/graphics-drivers/ppa/ubuntu jammy InRelease\n",
            "Hit:10 https://ppa.launchpadcontent.net/ubuntugis/ppa/ubuntu jammy InRelease\n",
            "Get:11 http://security.ubuntu.com/ubuntu jammy-security/main amd64 Packages [1,388 kB]\n",
            "Get:12 http://security.ubuntu.com/ubuntu jammy-security/universe amd64 Packages [1,059 kB]\n",
            "Fetched 2,677 kB in 5s (588 kB/s)\n",
            "Reading package lists... Done\n",
            "--2024-01-25 17:24:30--  https://fem-on-colab.github.io/releases/vtk-install.sh\n",
            "Resolving fem-on-colab.github.io (fem-on-colab.github.io)... 185.199.108.153, 185.199.109.153, 185.199.110.153, ...\n",
            "Connecting to fem-on-colab.github.io (fem-on-colab.github.io)|185.199.108.153|:443... connected.\n",
            "HTTP request sent, awaiting response... 200 OK\n",
            "Length: 1698 (1.7K) [application/x-sh]\n",
            "Saving to: ‘/tmp/vtk-install.sh’\n",
            "\n",
            "/tmp/vtk-install.sh 100%[===================>]   1.66K  --.-KB/s    in 0s      \n",
            "\n",
            "2024-01-25 17:24:30 (16.7 MB/s) - ‘/tmp/vtk-install.sh’ saved [1698/1698]\n",
            "\n",
            "+ INSTALL_PREFIX=/usr/local\n",
            "++ awk -F/ '{print NF-1}'\n",
            "++ echo /usr/local\n",
            "+ INSTALL_PREFIX_DEPTH=2\n",
            "+ PROJECT_NAME=fem-on-colab\n",
            "+ SHARE_PREFIX=/usr/local/share/fem-on-colab\n",
            "+ VTK_INSTALLED=/usr/local/share/fem-on-colab/vtk.installed\n",
            "+ [[ ! -f /usr/local/share/fem-on-colab/vtk.installed ]]\n"
          ]
        }
      ]
    },
    {
      "cell_type": "markdown",
      "source": [
        "Given a numerical approximation of a random field or random function $Y(\\boldsymbol{x})$ over an arbitrary domain $\\boldsymbol{x} \\in \\Omega$ (which can be thought of as a multidimensional space $\\mathbb{R}^n$), we want to calculate its corresponding cumulative density function (CDF) $F(y)$ and probability density function (PDF) $f(y)$ such that these functions are continuous and make the best possible use of the available data. The CDF of $Y(\\boldsymbol{x})$ is given by\n",
        "\\begin{equation*}\n",
        "    F(y) = \\int_{\\Omega} \\mathbb{I}(y,\\boldsymbol{x}) d \\boldsymbol{x},\n",
        "\\end{equation*}\n",
        "where the indicator function is given by\n",
        "\\begin{equation*}\n",
        "    \\mathbb{I}(y,\\boldsymbol{x}) =\n",
        "    \\begin{cases}\n",
        "    1 \\quad &: Y(\\boldsymbol{x}) < y, \\\\\n",
        "    0 \\quad &: \\text{otherwise}.\n",
        "    \\end{cases}\n",
        "\\end{equation*}\n",
        "Differentiating the CDF its PDF $f(y) = \\partial_y F(y)$ is then easily recovered. While seemingly simple the integral of the indicator function is in practice difficult to calculate numerically and the common approach is to jump directly from the analytical expression for $F(y)$ directly to its piecewise constant approximation outlined below."
      ],
      "metadata": {
        "id": "VNUk88WfNLr5"
      }
    },
    {
      "cell_type": "markdown",
      "source": [
        "To illustrate this consider calculating the CDF of $Y(\\boldsymbol{x}_i) = (Y_1, Y_2, \\cdots ,Y_n)$ here taken to be a uniformly sampled vector of $n$ discrete points. To calculate a discrete approximation of its CDF we can sort the data to obtain\n",
        "\\begin{equation*}\n",
        "    F(y) \\approx \\frac{1}{n} \\sum_{i=1}^n \\mathbb{1}_{Y_i \\leq y}\n",
        "\\end{equation*}\n",
        "which jumps up by $1/n$ at each data point and thus lets the data discretise the codomain $\\Omega_{Y}$, or we can impose a discretisation of $m$ bins $y_0 < y_1 < \\cdots < y_m$ and obtain the approximation\n",
        "\\begin{equation*}\n",
        "    F(y_m) \\approx \\frac{1}{n} \\sum_{i=1}^n \\mathbb{1}_{Y_i \\leq y_m}\n",
        "\\end{equation*}\n",
        "which jumps up between bins by $F(y_2) - F(y_1) \\neq 1/m$, and takes a constant value within each bin. While this gaurantees a monotonic CDF it is clearly discontinuous and has not made the best use of our data as shown in the example below."
      ],
      "metadata": {
        "id": "RFP6QthkNZuo"
      }
    },
    {
      "cell_type": "markdown",
      "source": [
        "Here we consider the Buoyancy field from a DNS simulation $Y(x_1,x_2) = B(x_1,x_2)$ where $x_1 \\in [0,2 \\pi). x_2 \\in [0,1]$, and plot its CDF $F_Y(y)$ a contour level of its CDF $F_Y(y)$ as function of $x_1,y$ as well as the indicator function $\\mathbb{I}(y,x_1)$."
      ],
      "metadata": {
        "id": "5etO4BX8noJn"
      }
    },
    {
      "cell_type": "code",
      "source": [
        "import h5py\n",
        "Dir = '/content/drive/MyDrive/';\n",
        "file  = h5py.File(Dir + 'snapshots/snapshots_s1.h5', mode='r')\n",
        "B     = file['tasks/buoyancy'][-1,:,:] # Final snapshot\n",
        "x1    = file['tasks/buoyancy'].dims[1][0][:]\n",
        "x2    = file['tasks/buoyancy'].dims[2][0][:]\n",
        "\n",
        "\n",
        "x = (x1,x2)\n",
        "Y = lambda x:\n",
        "\n",
        "# Create an interpolator\n",
        "n_x1 = 10**3; n_x2 = 10**3\n",
        "\n",
        "# Function - numerical data\n",
        "x1 = np.linspace(0,2*np.pi,n_x1)\n",
        "x2 = np.linspace(0,2*np.pi,n_x2)\n",
        "\n",
        "# x = (x1,)\n",
        "# Y = lambda x: np.sin(x[0])**2;\n",
        "\n",
        "x = (x1,x2)\n",
        "Y = lambda x: np.sin(x[0])**2 + np.sin(x[1])**2;"
      ],
      "metadata": {
        "id": "4oSFufOMTkkw"
      },
      "execution_count": 47,
      "outputs": []
    },
    {
      "cell_type": "code",
      "source": [
        "import numpy as np\n",
        "import matplotlib.pyplot as plt\n",
        "\n",
        "n  = 10    # Number of bins\n",
        "\n",
        "# Indicator function\n",
        "I  = lambda Y,y_m: [1 if Y_i < y_m else 0 for Y_i in Y];\n",
        "\n",
        "# Construct CDF\n",
        "dy  = abs( max(Y(x)) - min(Y(x)) )/n;\n",
        "y   = np.arange(min(Y(x)),max(Y(x))+dy,dy);\n",
        "\n",
        "grid_shape = tuple( len(xi) for xi in x )\n",
        "IYX = np.zeros((n,) + grid_shape)\n",
        "for i,y_m in enumerate(y[1:]):\n",
        "  IYX[i,...] = I(Y(x),y_m) # If Y(x1) < y_n left bin edge\n",
        "\n",
        "F  = np.mean(IYX,axis= tuple(range(1,IYX.ndim)) )  # Integrate out x\n",
        "y_c= (y[1:] + y[:-1])/2.; # Convert to bin centres\n",
        "\n",
        "fig = plt.figure(figsize=(16,6))\n",
        "\n",
        "ax1 = fig.add_subplot(121)\n",
        "ax1.plot(F,y_c,drawstyle='steps-mid')\n",
        "ax1.set_xlim([0,1])\n",
        "ax1.set_title(r'(a)')\n",
        "ax1.set_ylabel(r'$y$')\n",
        "ax1.set_xlabel(r'$F(y)$')\n",
        "\n",
        "# ax2 = fig.add_subplot(152)\n",
        "# ax2.set_title(r'(b) $\\hat{F}(y)$')\n",
        "# ax2.pcolormesh(x1,y_c,np.outer(np.ones(n_x1),F).T,cmap='coolwarm')\n",
        "# ax2.set_xlabel(r'$x1$')\n",
        "# ax2.set_ylabel(r'$y$')\n",
        "\n",
        "# ax3 = fig.add_subplot(153)\n",
        "# ax3.set_title(r'(c) $\\mathbb{I}(y,x1)$')\n",
        "# im = ax3.pcolormesh(x1,y_c,IYX,cmap='coolwarm')\n",
        "# fig.colorbar(im, ax=ax3)\n",
        "# ax3.set_xlabel(r'$x1$')\n",
        "# ax3.set_ylabel(r'$y$')\n",
        "\n",
        "# ax4 = fig.add_subplot(154)\n",
        "# ax4.plot(x1,I(Y(x1),0.5),'b')\n",
        "# ax4.set_ylim([0,1])\n",
        "# ax4.set_title(r'(d)')\n",
        "# ax4.set_xlabel(r'$x1$')\n",
        "# ax4.set_ylabel(r'$\\mathbb{I}(y=0.5,x1)$')\n",
        "\n",
        "ax5 = fig.add_subplot(122)\n",
        "f, b_i = np.histogram(Y(x), bins='auto',density=True)\n",
        "yy = .5*(b_i[1:] + b_i[:-1])\n",
        "ax5.plot(yy,f)\n",
        "ax5.set_xlim([0,1])\n",
        "ax5.set_title(r'(e)')\n",
        "ax5.set_xlabel(r'$y$')\n",
        "ax5.set_ylabel(r'$f(y)$')\n",
        "\n",
        "plt.tight_layout()\n",
        "plt.show()"
      ],
      "metadata": {
        "colab": {
          "base_uri": "https://localhost:8080/",
          "height": 577
        },
        "id": "w6JwdY6MNipX",
        "outputId": "62e5c9c8-d50b-4924-b438-f46288474a68"
      },
      "execution_count": 46,
      "outputs": [
        {
          "output_type": "display_data",
          "data": {
            "text/plain": [
              "<Figure size 1600x600 with 2 Axes>"
            ],
            "image/png": "[encoded data removed]"
          },
          "metadata": {}
        }
      ]
    },
    {
      "cell_type": "markdown",
      "source": [
        "In the example above we have (1) implicitly assumed a basis of piecewise constant functions and (2) regarded the random field not as a continuous function of space but instead as a vector of grid point evaluations. How do we refine this \"binning\" approach?\n",
        "\n",
        "To address the first point we can define an appropriate function space $V_F$ for $F$. While this could be the space of continuous functions, for simplicity we choose the space of square integrable functions\n",
        "\\begin{equation*}\n",
        "    F \\in V_F \\subset L^2(\\Omega_Y), \\quad \\text{where} \\quad F: \\Omega_Y \\to [0,1] \\quad \\text{s.t.} \\; \\int F^2 dy < \\infty,\n",
        "\\end{equation*}\n",
        "and define the set of basis functions $V_F = span\\{\\phi_i(y)\\}$ such that\n",
        "\\begin{equation*}\n",
        "    F(y) = \\sum_i f_i \\phi_i(y).\n",
        "\\end{equation*}\n",
        "While this does not garauntee continuity it does garauntee monotonicity and as we will see the former property is not strictly necessary if we only require $f(y)$ to be continuous. Thus by formulating the problem in this manner we can modify the definition of $V_F$ as required.\n",
        "\n",
        "\n",
        "To address the second point we now consider the projection of $F(y)$ into $V_F$ as defined by\n",
        "\\begin{equation*}\n",
        "    \\int_{\\Omega_Y \\times \\Omega} \\hat{F} \\hat{v} \\; dy d \\boldsymbol{x} = \\int_{\\Omega_Y \\times \\Omega} \\mathbb{I}(y,\\boldsymbol{x}) \\hat{v} \\; dy d \\boldsymbol{x},\n",
        "\\end{equation*}\n",
        "where $\\hat{v},\\hat{F} \\in \\hat{V}_F$ denotes the extension of $v,F \\in V_F$ into $\\Omega$. Substituting in for $\\hat{F}$ and considering the projection component-wise we obtain\n",
        "\\begin{equation*}\n",
        "    \\sum_{i,j} \\left[ \\int_{\\Omega_Y \\times \\Omega} \\hat{\\phi}_i \\hat{\\phi}_j \\; dy d \\boldsymbol{x} \\right] f_j = \\sum_i \\left[ \\int_{\\Omega_Y \\times \\Omega} \\mathbb{I}(y,\\boldsymbol{x}) \\hat{\\phi}_i(y,\\boldsymbol{x}) \\; dy d \\boldsymbol{x} \\right],\n",
        "\\end{equation*}\n",
        "where the left hand side denotes the bilinear form and the right hand side the linear form. As $\\mathbb{I}(y,\\boldsymbol{x})$ is analytic and $Y(\\boldsymbol{x})$ is treated as a random function of space we have not made any approximation of the right hand side!\n",
        "\n",
        "\n",
        "Applying this equation to the example problem, we find that the precise statement of these function spaces for $\\hat{F}$ and its basis functions $\\hat{v}$ is\n",
        "\\begin{equation}\n",
        "    \\hat{V}_F = V_F \\times R,\n",
        "\\end{equation}\n",
        "the space of square integrable functions $V_F$ times $R$ the space of functions which are constant over the whole domain. These spaces correspond to the $y$ and $x_1$ axis of frame (b) in the example shown above, whose 1D projection is shown in frame (a). In frames (c) and (d)  we highlight the discontinuous dependence of the indicator function on $y,x_1$. To realise these function spaces we will make use of the finite element code Firedrake."
      ],
      "metadata": {
        "id": "hK8Vvbf7N7Af"
      }
    },
    {
      "cell_type": "markdown",
      "source": [
        "We begin by constructing a mesh for $\\boldsymbol{x} \\in \\Omega$ which if 1D is an interval mesh and if 2D a rectangular mesh. As we have an analytical expression or at least have a continuous representation of our data we can replace the real space $R$ by a single Discrete Galerkin element of zero order (DG0). Extruding this mesh into $y \\in \\Omega_Y$ and ascribing to it $N_y$ elements of type DG0 we specify a function for $F(y)$."
      ],
      "metadata": {
        "id": "ASJ1MLqexw_z"
      }
    },
    {
      "cell_type": "code",
      "source": [
        "from firedrake import *\n",
        "\n",
        "# Construct the mesh\n",
        "Ny   = 10\n",
        "m_x  = IntervalMesh(1,0,2*np.pi); cell_type = \"interval\";  # x-direction\n",
        "#m_x  = RectangleMesh(1,1,Lx=2*np.pi,Ly=2*np.pi, originX=0.0, originY=0.0); cell_type = \"triangle\";\n",
        "mesh = ExtrudedMesh(m_x, layers=Ny,layer_height=1./Ny,extrusion_type='uniform') # y-direction\n",
        "File(\"Exruded_Mesh.pvd\").write(mesh)\n",
        "\n",
        "# Set the function-space \\hat{V}_F\n",
        "R   = FiniteElement(family=\"DG\" ,cell=cell_type,degree=0)\n",
        "V_F = FiniteElement(family=\"DG\",cell=\"interval\",degree=1)\n",
        "\n",
        "elt_RVF = TensorProductElement(R,V_F)\n",
        "V_hat_F = FunctionSpace(mesh,elt_RVF)"
      ],
      "metadata": {
        "id": "n_MLXOJCBLoO"
      },
      "execution_count": null,
      "outputs": []
    },
    {
      "cell_type": "markdown",
      "source": [
        "With the function spaces defined we then define the indicator function $\\mathbb{I}(y,\\boldsymbol{x})$ which acts on the random function $Y(\\boldsymbol{x})$"
      ],
      "metadata": {
        "id": "UpTnkahKVlR6"
      }
    },
    {
      "cell_type": "code",
      "source": [
        "# Define the indicator function\n",
        "x1,y = SpatialCoordinate(mesh)\n",
        "Indicator = conditional( sin(x1)**2  < y, 1.0, 0.0)"
      ],
      "metadata": {
        "id": "Z902JIDknvRm"
      },
      "execution_count": null,
      "outputs": []
    },
    {
      "cell_type": "markdown",
      "source": [
        "We then declare the bilinear and linear forms for the left and right hand sides of our equation and then we solve the equation, by defining $F$ to be a function holding the solution and then passing this along with $a$ and $L$ to a solver. An additional argument we specify when constructing the linear form is the degree of the quadrature rule used to integrate the right hand side. A high order rule is necessary to contend with the discontinuous dependency of the indicator function."
      ],
      "metadata": {
        "id": "yHWoTqqeV-Vr"
      }
    },
    {
      "cell_type": "code",
      "source": [
        "u = TrialFunction(V_hat_F)\n",
        "v = TestFunction(V_hat_F)\n",
        "\n",
        "a = inner(u,v) * dx\n",
        "L = inner(Indicator,v) * dx(degree=500) # Enforece a high order quadrature rule\n",
        "\n",
        "F_hat = Function(V_hat_F)\n",
        "solve(a == L,F_hat)\n",
        "File(\"CDF_Extended.pvd\").write(F_hat)"
      ],
      "metadata": {
        "id": "7js60-1PWAmk"
      },
      "execution_count": null,
      "outputs": []
    },
    {
      "cell_type": "markdown",
      "source": [
        "To recover the 1D function $F(y)$ we then create a new mesh and ascribe a function space upon which we can define a function to contain the data associated with the extended function's $\\hat{F}(y,\\boldsymbol{x})$ DOF."
      ],
      "metadata": {
        "id": "Rl4yHkfioLMu"
      }
    },
    {
      "cell_type": "code",
      "source": [
        "# Define a mesh,function space & the CDF F which lives in this space\n",
        "m_y = IntervalMesh(Ny,0,1);\n",
        "V_F = FunctionSpace(mesh=m_y,family=\"DG\",degree=1);\n",
        "F   = Function(V_F)\n",
        "\n",
        "# create new function y_Fs on function space V\n",
        "y,  = SpatialCoordinate(m_y)\n",
        "y_Fs= interpolate(y,V_F) # Creates a function y in V_F\n",
        "\n",
        "# Now we sort these in ascending order\n",
        "# This is because the DOFs for the extended mesh are in ascending order\n",
        "indx = np.argsort(y_Fs.dat.data)\n",
        "\n",
        "# Pass the data from F_hat into F\n",
        "if len(F_hat.dat.data) == len(indx):\n",
        "  F.dat.data[indx] = F_hat.dat.data[:]\n",
        "else:\n",
        "  # Take the average over the two triangles\n",
        "  F.dat.data[indx] = 0.5*(F_hat.dat.data[:len(indx)] + F_hat.dat.data[len(indx):])\n",
        "\n",
        "print('int F ds = ',assemble(F*ds),'\\n')\n"
      ],
      "metadata": {
        "id": "OaWPrCDBouNU",
        "colab": {
          "base_uri": "https://localhost:8080/"
        },
        "outputId": "74c233db-0ea1-4d0a-8142-794214f345f9"
      },
      "execution_count": null,
      "outputs": [
        {
          "output_type": "stream",
          "name": "stdout",
          "text": [
            "int F dx =  0.9998789307575019 \n",
            "\n"
          ]
        }
      ]
    },
    {
      "cell_type": "markdown",
      "source": [
        "Finally we can plot this out using firedrake's inbuilt routine"
      ],
      "metadata": {
        "id": "jJrxbIhdwIoQ"
      }
    },
    {
      "cell_type": "code",
      "source": [
        "try:\n",
        "  import firedrake.pyplot as plt\n",
        "except:\n",
        "  warning(\"Matplotlib not imported\")\n",
        "\n",
        "try:\n",
        "  Line2D = plt.plot(F,num_sample_points=150)\n",
        "except Exception as e:\n",
        "  warning(\"Cannot plot figure. Error msg: '%s'\" % e)"
      ],
      "metadata": {
        "colab": {
          "base_uri": "https://localhost:8080/",
          "height": 430
        },
        "id": "x8T1uS56wHy4",
        "outputId": "5f239c62-ae00-4a62-8bb7-c04fdbc82e5e"
      },
      "execution_count": null,
      "outputs": [
        {
          "output_type": "display_data",
          "data": {
            "text/plain": [
              "<Figure size 640x480 with 1 Axes>"
            ],
            "image/png": "[encoded data removed]"
          },
          "metadata": {}
        }
      ]
    }
  ]
}
