{
 "cells": [
  {
   "cell_type": "code",
   "execution_count": null,
   "metadata": {},
   "outputs": [],
   "source": [
    "!apt-get update --fix-missing\n",
    "\n",
    "try:\n",
    "    import firedrake\n",
    "except ImportError:\n",
    "    !wget \"https://fem-on-colab.github.io/releases/firedrake-install-real.sh\" -O \"/tmp/firedrake-install.sh\" && bash \"/tmp/firedrake-install.sh\"\n",
    "    import firedrake\n",
    "\n",
    "try:\n",
    "    import google.colab  # noqa: F401\n",
    "except ImportError:\n",
    "    import pyvista as pv\n",
    "else:\n",
    "    !wget \"https://fem-on-colab.github.io/releases/vtk-install.sh\" -O \"/tmp/vtk-install.sh\" && bash \"/tmp/vtk-install.sh\"\n",
    "    import pyvista as pv\n",
    "\n",
    "# Seems that only static plotting is supported by colab at the moment\n",
    "pv.global_theme.jupyter_backend = \"static\"\n",
    "pv.global_theme.notebook = True\n",
    "pv.start_xvfb()\n",
    "#pv.set_jupyter_backend('trame')"
   ]
  },
  {
   "cell_type": "markdown",
   "metadata": {},
   "source": [
    "**Example 1D function**\n",
    "\n",
    "As an example we construct the PDF and CDF of the function $Y(x_1) = x^{3/2}$ on the interval $x_1 \\in [0,1]$. To do so we first import"
   ]
  },
  {
   "cell_type": "code",
   "execution_count": null,
   "metadata": {},
   "outputs": [],
   "source": [
    "from PDF_Projector import *"
   ]
  },
  {
   "cell_type": "markdown",
   "metadata": {},
   "source": [
    "where FEptp which stands for Finite Element physical to probability is the object we will use. To instantiate this object we can call"
   ]
  },
  {
   "cell_type": "code",
   "execution_count": null,
   "metadata": {},
   "outputs": [],
   "source": [
    "# Use the default function spaces\n",
    "ptp = FEptp()\n",
    "\n",
    "# Specify the function spaces for the CDF and PDF\n",
    "ptp = FEptp(func_space_CDF = {\"family\":\"DG\",\"degree\":1},func_space_PDF= {\"family\":\"CG\",\"degree\":1})"
   ]
  },
  {
   "cell_type": "markdown",
   "metadata": {},
   "source": [
    "Having specified the function spaces for our problem, we must then specify the phyiscal domain $\\Omega_X$, the domain of the CDF and PDF $\\Omega_Y$ and the number of elements we will use. This is done by calling the domain method"
   ]
  },
  {
   "cell_type": "code",
   "execution_count": null,
   "metadata": {},
   "outputs": [],
   "source": [
    "x1,y = ptp.domain(Omega_X = {'x1':(0,1)}, Omega_Y = {'Y':(0,1)}, N_elements=100)"
   ]
  },
  {
   "cell_type": "markdown",
   "metadata": {},
   "source": [
    "which returns the co-ordinates of the domain $x_1,y$. Armed with the co-ordinates we can then specify our function $Y(x_1)$ and generate the CDF & PDF by calling the fit method"
   ]
  },
  {
   "cell_type": "code",
   "execution_count": null,
   "metadata": {},
   "outputs": [],
   "source": [
    "ptp.fit(function_Y = x1**(3/2), quadrature_degree=1000)"
   ]
  },
  {
   "cell_type": "markdown",
   "metadata": {},
   "source": [
    "Once fitted we can then plot these functions by calling the plot method"
   ]
  },
  {
   "cell_type": "code",
   "execution_count": null,
   "metadata": {},
   "outputs": [],
   "source": [
    "ptp.plot()"
   ]
  },
  {
   "cell_type": "markdown",
   "metadata": {},
   "source": [
    "or evaluate them on a user specified grid y_i by calling the evaluate method as follows"
   ]
  },
  {
   "cell_type": "code",
   "execution_count": null,
   "metadata": {},
   "outputs": [],
   "source": [
    "import numpy as np\n",
    "y_i = np.linspace(0,1,100)\n",
    "\n",
    "F_Y,f_Y,y_i  = ptp.evaluate(y = y_i)"
   ]
  },
  {
   "cell_type": "markdown",
   "metadata": {},
   "source": [
    "**Example of a 2D functio**\n",
    "\n",
    "In two dimensions the method works exactly the same way and if we are happy with the function spaces chosen we can simply re-run"
   ]
  },
  {
   "cell_type": "code",
   "execution_count": null,
   "metadata": {},
   "outputs": [],
   "source": [
    "x1,x2,y = ptp.domain(Omega_X = {'x1':(0,1),'x2':(0,1)}, Omega_Y = {'Y':(0,2)}, N_elements=50)"
   ]
  },
  {
   "cell_type": "markdown",
   "metadata": {},
   "source": [
    "to generate the domain, and then call"
   ]
  },
  {
   "cell_type": "code",
   "execution_count": null,
   "metadata": {},
   "outputs": [],
   "source": [
    "ptp.fit(function_Y = x1 + x2, quadrature_degree=200)\n",
    "\n",
    "ptp.plot()"
   ]
  },
  {
   "cell_type": "markdown",
   "metadata": {},
   "source": [
    "to generate and plot out the finite element approximation of the CDF and PDF of $Y(X) = x_1 + x_2$."
   ]
  }
 ],
 "metadata": {
  "kernelspec": {
   "display_name": "firedrake",
   "language": "python",
   "name": "python3"
  },
  "language_info": {
   "codemirror_mode": {
    "name": "ipython",
    "version": 3
   },
   "file_extension": ".py",
   "mimetype": "text/x-python",
   "name": "python",
   "nbconvert_exporter": "python",
   "pygments_lexer": "ipython3",
   "version": "3.11.7"
  }
 },
 "nbformat": 4,
 "nbformat_minor": 2
}
