{
  "nbformat": 4,
  "nbformat_minor": 0,
  "metadata": {
    "colab": {
      "provenance": [],
      "authorship_tag": "ABX9TyPzcaf5mEHfMuawLlLK2WrF",
      "include_colab_link": true
    },
    "kernelspec": {
      "name": "python3",
      "display_name": "Python 3"
    },
    "language_info": {
      "name": "python"
    }
  },
  "cells": [
    {
      "cell_type": "markdown",
      "metadata": {
        "id": "view-in-github",
        "colab_type": "text"
      },
      "source": [
        "<a href=\"https://colab.research.google.com/github/mannixp/CHIST/blob/main/PDF_Construction_using_extruded_mesh.ipynb\" target=\"_parent\"><img src=\"https://colab.research.google.com/assets/colab-badge.svg\" alt=\"Open In Colab\"/></a>"
      ]
    },
    {
      "cell_type": "code",
      "source": [
        "!apt-get update --fix-missing\n",
        "\n",
        "try:\n",
        "    import firedrake\n",
        "except ImportError:\n",
        "    !wget \"https://fem-on-colab.github.io/releases/firedrake-install-real.sh\" -O \"/tmp/firedrake-install.sh\" && bash \"/tmp/firedrake-install.sh\"\n",
        "    import firedrake\n",
        "\n",
        "try:\n",
        "    import google.colab  # noqa: F401\n",
        "except ImportError:\n",
        "    import pyvista as pv\n",
        "else:\n",
        "    !wget \"https://fem-on-colab.github.io/releases/vtk-install.sh\" -O \"/tmp/vtk-install.sh\" && bash \"/tmp/vtk-install.sh\"\n",
        "    import pyvista as pv\n",
        "\n",
        "# Seems that only static plotting is supported by colab at the moment\n",
        "pv.global_theme.jupyter_backend = \"static\"\n",
        "pv.global_theme.notebook = True\n",
        "pv.start_xvfb()\n",
        "#pv.set_jupyter_backend('trame')"
      ],
      "metadata": {
        "id": "eoPnd_A7SZum",
        "outputId": "af6750c2-514f-4e26-c066-43eca9612265",
        "colab": {
          "base_uri": "https://localhost:8080/"
        }
      },
      "execution_count": 117,
      "outputs": [
        {
          "output_type": "stream",
          "name": "stdout",
          "text": [
            "\r0% [Working]\r            \rHit:1 https://cloud.r-project.org/bin/linux/ubuntu jammy-cran40/ InRelease\n",
            "\r0% [Connecting to archive.ubuntu.com (185.125.190.36)] [Waiting for headers] [Connecting to ppa.laun\r                                                                                                    \rGet:2 http://security.ubuntu.com/ubuntu jammy-security InRelease [110 kB]\n",
            "\r0% [Connecting to archive.ubuntu.com (185.125.190.36)] [2 InRelease 14.2 kB/110 kB 13%] [Connecting \r                                                                                                    \rHit:3 https://developer.download.nvidia.com/compute/cuda/repos/ubuntu2204/x86_64  InRelease\n",
            "Hit:4 http://archive.ubuntu.com/ubuntu jammy InRelease\n",
            "Get:5 http://archive.ubuntu.com/ubuntu jammy-updates InRelease [119 kB]\n",
            "Hit:6 https://ppa.launchpadcontent.net/c2d4u.team/c2d4u4.0+/ubuntu jammy InRelease\n",
            "Hit:7 https://ppa.launchpadcontent.net/deadsnakes/ppa/ubuntu jammy InRelease\n",
            "Hit:8 http://archive.ubuntu.com/ubuntu jammy-backports InRelease\n",
            "Hit:9 https://ppa.launchpadcontent.net/graphics-drivers/ppa/ubuntu jammy InRelease\n",
            "Get:10 http://archive.ubuntu.com/ubuntu jammy-updates/main amd64 Packages [1,623 kB]\n",
            "Hit:11 https://ppa.launchpadcontent.net/ubuntugis/ppa/ubuntu jammy InRelease\n",
            "Fetched 1,852 kB in 2s (1,229 kB/s)\n",
            "Reading package lists... Done\n",
            "--2024-01-22 11:55:36--  https://fem-on-colab.github.io/releases/vtk-install.sh\n",
            "Resolving fem-on-colab.github.io (fem-on-colab.github.io)... 185.199.108.153, 185.199.109.153, 185.199.110.153, ...\n",
            "Connecting to fem-on-colab.github.io (fem-on-colab.github.io)|185.199.108.153|:443... connected.\n",
            "HTTP request sent, awaiting response... 200 OK\n",
            "Length: 1698 (1.7K) [application/x-sh]\n",
            "Saving to: ‘/tmp/vtk-install.sh’\n",
            "\n",
            "/tmp/vtk-install.sh 100%[===================>]   1.66K  --.-KB/s    in 0s      \n",
            "\n",
            "2024-01-22 11:55:36 (29.1 MB/s) - ‘/tmp/vtk-install.sh’ saved [1698/1698]\n",
            "\n",
            "+ INSTALL_PREFIX=/usr/local\n",
            "++ echo /usr/local\n",
            "++ awk -F/ '{print NF-1}'\n",
            "+ INSTALL_PREFIX_DEPTH=2\n",
            "+ PROJECT_NAME=fem-on-colab\n",
            "+ SHARE_PREFIX=/usr/local/share/fem-on-colab\n",
            "+ VTK_INSTALLED=/usr/local/share/fem-on-colab/vtk.installed\n",
            "+ [[ ! -f /usr/local/share/fem-on-colab/vtk.installed ]]\n"
          ]
        }
      ]
    },
    {
      "cell_type": "markdown",
      "source": [
        "Given a numerical approximation of a random field or random function $Y(\\boldsymbol{x})$ over an arbitrary domain $\\boldsymbol{x} \\in \\Omega$ (which can be thought of as a multidimensional space $\\mathbb{R}^n$), we want to calculate its corresponding cumulative density function (CDF) $F(y)$ and probability density function (PDF) $f(y)$ such that these functions are continuous and make the best possible use of the available data. The CDF of $Y(\\boldsymbol{x})$ is given by\n",
        "\\begin{equation*}\n",
        "    F(y) = \\int_{\\Omega} \\mathbb{I}(y,\\boldsymbol{x}) d \\boldsymbol{x},\n",
        "\\end{equation*}\n",
        "where the indicator function is given by\n",
        "\\begin{equation*}\n",
        "    \\mathbb{I}(y,\\boldsymbol{x}) =\n",
        "    \\begin{cases}\n",
        "    1 \\quad &: Y(\\boldsymbol{x}) < y, \\\\\n",
        "    0 \\quad &: \\text{otherwise}.\n",
        "    \\end{cases}\n",
        "\\end{equation*}\n",
        "Differentiating the CDF its PDF $f(y) = \\partial_y F(y)$ is then easily recovered. While seemingly simple the integral of the indicator function is in practice difficult to calculate numerically and the common approach is to jump directly from the analytical expression for $F(y)$ directly to its piecewise constant approximation outlined below."
      ],
      "metadata": {
        "id": "VNUk88WfNLr5"
      }
    },
    {
      "cell_type": "markdown",
      "source": [
        "To illustrate this consider calculating the CDF of $Y(\\boldsymbol{x}_i) = (Y_1, Y_2, \\cdots ,Y_n)$ here taken to be a uniformly sampled vector of $n$ discrete points. To calculate a discrete approximation of its CDF we can sort the data to obtain\n",
        "\\begin{equation*}\n",
        "    F(y) \\approx \\frac{1}{n} \\sum_{i=1}^n \\mathbb{1}_{Y_i \\leq y}\n",
        "\\end{equation*}\n",
        "which jumps up by $1/n$ at each data point and thus lets the data discretise the codomain $\\Omega_{Y}$, or we can impose a discretisation of $m$ bins $y_0 < y_1 < \\cdots < y_m$ and obtain the approximation\n",
        "\\begin{equation*}\n",
        "    F(y_m) \\approx \\frac{1}{n} \\sum_{i=1}^n \\mathbb{1}_{Y_i \\leq y_m}\n",
        "\\end{equation*}\n",
        "which jumps up between bins by $F(y_2) - F(y_1) \\neq 1/m$, and takes a constant value within each bin. While this gaurantees a monotonic CDF it is clearly discontinuous and has not made the best use of our data as shown in the example below."
      ],
      "metadata": {
        "id": "RFP6QthkNZuo"
      }
    },
    {
      "cell_type": "markdown",
      "source": [
        "Here we consider the function $Y(x_1) = \\sin(x_1)^2$ where $x_1 \\in [0,2 \\pi)$, and plot its CDF $F_Y(y)$ a contour level of its CDF $F_Y(y)$ as function of $x_1,y$ as well as the indicator function $\\mathbb{I}(y,x_1)$."
      ],
      "metadata": {
        "id": "5etO4BX8noJn"
      }
    },
    {
      "cell_type": "code",
      "source": [
        "import numpy as np\n",
        "import matplotlib.pyplot as plt\n",
        "\n",
        "n    = 10    # Number of bins\n",
        "n_x1 = 10**3 # Numerical grid for Y(x_1)\n",
        "\n",
        "# Function\n",
        "x1 = np.linspace(0,2*np.pi,n_x1)\n",
        "Y  = lambda x: np.sin(x)**2;\n",
        "\n",
        "# Indicator function\n",
        "I  = lambda Y,y_m: [1 if Y_i < y_m else 0 for Y_i in Y];\n",
        "\n",
        "# Construct CDF\n",
        "dy  = abs( max(Y(x1)) - min(Y(x1)) )/n;\n",
        "y   = np.arange(min(Y(x1)),max(Y(x1))+dy,dy);\n",
        "\n",
        "IYX = np.zeros((n,n_x1))\n",
        "for i,y_m in enumerate(y[1:]):\n",
        "  IYX[i,:] = I(Y(x1),y_m) # If Y(x1) < y_n left bin edge\n",
        "\n",
        "F  = np.mean(IYX,axis=1)  # Integrate out x\n",
        "y_c= (y[1:] + y[:-1])/2.; # Convert to bin centres\n",
        "\n",
        "fig = plt.figure(figsize=(12,6))\n",
        "\n",
        "ax1 = fig.add_subplot(141)\n",
        "ax1.plot(F,y_c,drawstyle='steps-mid')\n",
        "ax1.set_xlim([0,1])\n",
        "ax1.set_title(r'(a)')\n",
        "ax1.set_ylabel(r'$y$')\n",
        "ax1.set_xlabel(r'$F(y)$')\n",
        "\n",
        "ax2 = fig.add_subplot(142)\n",
        "ax2.set_title(r'(b) $\\hat{F}(y)$')\n",
        "ax2.pcolormesh(x1,y_c,np.outer(np.ones(n_x1),F).T,cmap='coolwarm')\n",
        "ax2.set_xlabel(r'$x1$')\n",
        "ax2.set_ylabel(r'$y$')\n",
        "\n",
        "ax3 = fig.add_subplot(143)\n",
        "ax3.set_title(r'(c) $\\mathbb{I}(y,x1)$')\n",
        "im = ax3.pcolormesh(x1,y_c,IYX,cmap='coolwarm')\n",
        "fig.colorbar(im, ax=ax3)\n",
        "ax3.set_xlabel(r'$x1$')\n",
        "ax3.set_ylabel(r'$y$')\n",
        "\n",
        "ax4 = fig.add_subplot(144)\n",
        "ax4.plot(x1,I(Y(x1),0.5),'b')\n",
        "ax4.set_ylim([0,1])\n",
        "ax4.set_title(r'(d)')\n",
        "ax4.set_xlabel(r'$x1$')\n",
        "ax4.set_ylabel(r'$\\mathbb{I}(y=0.5,x1)$')\n",
        "\n",
        "# hist, bin_edges = np.histogram(Y(x1), bins='auto',density=True)\n",
        "# yy = .5*(bin_edges[1:] + bin_edges[:-1])\n",
        "# plt.plot(yy,hist)\n",
        "# plt.show()\n",
        "\n",
        "plt.tight_layout()\n",
        "plt.show()"
      ],
      "metadata": {
        "colab": {
          "base_uri": "https://localhost:8080/",
          "height": 607
        },
        "id": "w6JwdY6MNipX",
        "outputId": "da78b111-f314-4183-ce6f-62ad0b30940e"
      },
      "execution_count": 118,
      "outputs": [
        {
          "output_type": "display_data",
          "data": {
            "text/plain": [
              "<Figure size 1200x600 with 5 Axes>"
            ],
            "image/png": "[encoded data removed]"
          },
          "metadata": {}
        }
      ]
    },
    {
      "cell_type": "markdown",
      "source": [
        "In the example above we have (1) implicitly assumed a basis of piecewise constant functions and (2) regarded the random field not as a continuous function of space but instead as a vector of grid point evaluations. How do we refine this \"binning\" approach?\n",
        "\n",
        "To address the first point we can define an appropriate function space $V_F$ for $F$. While this could be the space of continuous functions, for simplicity we choose the space of square integrable functions\n",
        "\\begin{equation*}\n",
        "    F \\in V_F \\subset L^2(\\Omega_Y), \\quad \\text{where} \\quad F: \\Omega_Y \\to [0,1] \\quad \\text{s.t.} \\; \\int F^2 dy < \\infty,\n",
        "\\end{equation*}\n",
        "and define the set of basis functions $V_F = span\\{\\phi_i(y)\\}$ such that\n",
        "\\begin{equation*}\n",
        "    F(y) = \\sum_i f_i \\phi_i(y).\n",
        "\\end{equation*}\n",
        "While this does not garauntee continuity it does garauntee monotonicity and as we will see the former property is not strictly necessary if we only require $f(y)$ to be continuous. Thus by formulating the problem in this manner we can modify the definition of $V_F$ as required.\n",
        "\n",
        "\n",
        "To address the second point we now consider the projection of $F(y)$ into $V_F$ as defined by\n",
        "\\begin{equation*}\n",
        "    \\int_{\\Omega_Y \\times \\Omega} \\hat{F} \\hat{v} \\; dy d \\boldsymbol{x} = \\int_{\\Omega_Y \\times \\Omega} \\mathbb{I}(y,\\boldsymbol{x}) \\hat{v} \\; dy d \\boldsymbol{x},\n",
        "\\end{equation*}\n",
        "where $\\hat{v},\\hat{F} \\in \\hat{V}_F$ denotes the extension of $v,F \\in V_F$ into $\\Omega$. Substituting in for $\\hat{F}$ and considering the projection component-wise we obtain\n",
        "\\begin{equation*}\n",
        "    \\sum_{i,j} \\left[ \\int_{\\Omega_Y \\times \\Omega} \\hat{\\phi}_i \\hat{\\phi}_j \\; dy d \\boldsymbol{x} \\right] f_j = \\sum_i \\left[ \\int_{\\Omega_Y \\times \\Omega} \\mathbb{I}(y,\\boldsymbol{x}) \\hat{\\phi}_i(y,\\boldsymbol{x}) \\; dy d \\boldsymbol{x} \\right],\n",
        "\\end{equation*}\n",
        "where the left hand side denotes the bilinear form and the right hand side the linear form. As $\\mathbb{I}(y,\\boldsymbol{x})$ is analytic and $Y(\\boldsymbol{x})$ is treated as a random function of space we have not made any approximation of the right hand side!\n",
        "\n",
        "\n",
        "Applying this equation to the example problem, we find that the precise statement of these function spaces for $\\hat{F}$ and its basis functions $\\hat{v}$ is\n",
        "\\begin{equation}\n",
        "    \\hat{V}_F = V_F \\times R,\n",
        "\\end{equation}\n",
        "the space of square integrable functions $V_F$ times $R$ the space of functions which are constant over the whole domain. These spaces correspond to the $y$ and $x_1$ axis of frame (b) in the example shown above, whose 1D projection is shown in frame (a). In frames (c) and (d)  we highlight the discontinuous dependence of the indicator function on $y,x_1$. To realise these function spaces we will make use of the finite element code Firedrake."
      ],
      "metadata": {
        "id": "hK8Vvbf7N7Af"
      }
    },
    {
      "cell_type": "markdown",
      "source": [
        "We begin by constructing a mesh for $\\boldsymbol{x} \\in \\Omega$ which if 1D is an interval mesh and if 2D a rectangular mesh. As we have an analytical expression or at least have a continuous representation of our data we can replace the real space $R$ by a single Discrete Galerkin element of zero order (DG0). Extruding this mesh into $y \\in \\Omega_Y$ and ascribing to it $Ny$ elements of type DG0 we specify a function for $F(y)$."
      ],
      "metadata": {
        "id": "ASJ1MLqexw_z"
      }
    },
    {
      "cell_type": "code",
      "source": [
        "from firedrake import *\n",
        "\n",
        "# Construct the mesh\n",
        "Ny   = 25\n",
        "#m_x  = IntervalMesh(1,0,2*np.pi); cell_type = \"interval\";  # x-direction\n",
        "m_x  = RectangleMesh(1,1,Lx=2*np.pi,Ly=2*np.pi, originX=0.0, originY=0.0); cell_type = \"triangle\";\n",
        "mesh = ExtrudedMesh(m_x, layers=Ny,layer_height=1./Ny,extrusion_type='uniform') # y-direction\n",
        "File(\"Exruded_Mesh.pvd\").write(mesh)\n",
        "\n",
        "# Set the function-space \\hat{V}_F\n",
        "R   = FiniteElement(family=\"DG\" ,cell=cell_type,degree=0)\n",
        "V_F = FiniteElement(family=\"DG\",cell=\"interval\",degree=0)\n",
        "\n",
        "elt_RVF = TensorProductElement(R,V_F)\n",
        "V_hat_F = FunctionSpace(mesh,elt_RVF)"
      ],
      "metadata": {
        "id": "n_MLXOJCBLoO"
      },
      "execution_count": 253,
      "outputs": []
    },
    {
      "cell_type": "markdown",
      "source": [
        "With the function spaces defined we then define the indicator function $\\mathbb{I}(y,\\boldsymbol{x})$ which acts on the random function $Y(\\boldsymbol{x})$"
      ],
      "metadata": {
        "id": "UpTnkahKVlR6"
      }
    },
    {
      "cell_type": "code",
      "source": [
        "# Define the indicator function\n",
        "x1,x2,y = SpatialCoordinate(mesh)\n",
        "Indicator = conditional( sin(x1)**2  < y, 1.0, 0.0)"
      ],
      "metadata": {
        "id": "Z902JIDknvRm"
      },
      "execution_count": 259,
      "outputs": []
    },
    {
      "cell_type": "markdown",
      "source": [
        "To inspect and visualise the mesh created we can use pyvista"
      ],
      "metadata": {
        "id": "noCVB_MA0oGF"
      }
    },
    {
      "cell_type": "code",
      "source": [
        "# Get information on the mesh\n",
        "reader = pv.get_reader(filename=\"Exruded_Mesh.pvd\")\n",
        "fdrake_mesh = reader.read()[0]\n",
        "fdrake_mesh\n",
        "\n",
        "# Visualise the mesh\n",
        "static_plotter = pv.Plotter()\n",
        "static_plotter.add_mesh(fdrake_mesh, color='black', style='wireframe', line_width=2)\n",
        "static_plotter.add_points(fdrake_mesh.points, color='red', point_size=4)\n",
        "static_plotter.add_axes()\n",
        "#static_plotter.camera_position = 'xy'\n",
        "static_plotter.show()"
      ],
      "metadata": {
        "id": "VBCSWetJf_RD"
      },
      "execution_count": null,
      "outputs": []
    },
    {
      "cell_type": "markdown",
      "source": [
        "while to check the indicator function is behaving as expected we can plot it out on a piecewise constant function space $V_I$"
      ],
      "metadata": {
        "id": "vsg-2RpvnwQL"
      }
    },
    {
      "cell_type": "code",
      "source": [
        "# Visualisation of the indicator function\n",
        "N_vis = 25\n",
        "#mI_x = IntervalMesh(N_vis,0,2*np.pi); cell_type = \"interval\";  # x-direction\n",
        "mI_x  = RectangleMesh(N_vis,N_vis,Lx=2*np.pi,Ly=4*np.pi, originX=0.0, originY=0.0); cell_type = \"triangle\";\n",
        "meshI = ExtrudedMesh(mI_x, layers=N_vis,layer_height=1./N_vis,extrusion_type='uniform') # y-direction\n",
        "\n",
        "# Set the function-space V_I\n",
        "W   = FiniteElement(family=\"DG\",cell=cell_type ,degree=0)\n",
        "V_F = FiniteElement(family=\"DG\",cell=\"interval\",degree=0)\n",
        "\n",
        "elt_WVF = TensorProductElement(W,V_F)\n",
        "V_I     = FunctionSpace(meshI,elt_WVF)\n",
        "\n",
        "I = Function(V_I)\n",
        "I.interpolate( Indicator )\n",
        "File(\"Indicator_Function.pvd\").write(I)\n",
        "\n",
        "reader = pv.get_reader(filename=\"Indicator_Function.pvd\")\n",
        "fdrake_mesh = reader.read()[0]\n",
        "fdrake_mesh.plot(cpos='xy',cmap='coolwarm')"
      ],
      "metadata": {
        "id": "CKlsmFkoVkyR",
        "colab": {
          "base_uri": "https://localhost:8080/",
          "height": 802
        },
        "outputId": "be71feb8-9276-43de-c168-7fcbe627c660"
      },
      "execution_count": 245,
      "outputs": [
        {
          "output_type": "stream",
          "name": "stdout",
          "text": [
            "Discontinuous Lagrange\n"
          ]
        },
        {
          "output_type": "display_data",
          "data": {
            "text/plain": [
              "<PIL.Image.Image image mode=RGB size=1024x768>"
            ],
            "image/png": "[encoded data removed]"
          },
          "metadata": {}
        }
      ]
    },
    {
      "cell_type": "markdown",
      "source": [
        "We then declare the bilinear and linear forms for the left and right hand sides of our equation and then we solve the equation, by defining $F$ to be a function holding the solution and then passing this along with $a$ and $L$ to a solver. An additional argument we specify when constructing the linear form is the degree of the quadrature rule used to integrate the right hand side. A high order rule is necessary to contend with the discontinuous dependency of the indicator function."
      ],
      "metadata": {
        "id": "yHWoTqqeV-Vr"
      }
    },
    {
      "cell_type": "code",
      "source": [
        "u = TrialFunction(V_hat_F)\n",
        "v = TestFunction(V_hat_F)\n",
        "\n",
        "a = inner(u,v) * dx\n",
        "L = inner(Indicator,v) * dx(degree=300) # Enforece a high order quadrature rule\n",
        "\n",
        "F_hat = Function(V_hat_F)\n",
        "solve(a == L,F_hat)\n",
        "File(\"CDF_Extended.pvd\").write(F_hat)"
      ],
      "metadata": {
        "id": "7js60-1PWAmk"
      },
      "execution_count": 260,
      "outputs": []
    },
    {
      "cell_type": "markdown",
      "source": [
        "To recover the 1D function $F(y)$ we then create a new mesh and ascribe a function space upon which we can define a function to contain the data associated with the extended function's $\\hat{F}(y,\\boldsymbol{x})$ DOF."
      ],
      "metadata": {
        "id": "Rl4yHkfioLMu"
      }
    },
    {
      "cell_type": "code",
      "source": [
        "# Define a mesh,function space & the CDF F which lives in this space\n",
        "m_y = IntervalMesh(Ny,0,1);\n",
        "V_F = FunctionSpace(mesh=m_y,family=\"DG\",degree=0);\n",
        "F   = Function(V_F)\n",
        "\n",
        "# create new function y_Fs on function space V\n",
        "y,  = SpatialCoordinate(m_y)\n",
        "y_Fs= interpolate(y,V_F) # Creates a function y in V_F\n",
        "\n",
        "# Now we sort these in ascending order\n",
        "# This is because the DOFs for the extended mesh are in ascending order\n",
        "indx = np.argsort(y_Fs.dat.data)\n",
        "\n",
        "# Pass the data from F_hat into F\n",
        "if len(F_hat.dat.data) == len(indx):\n",
        "  F.dat.data[indx] = F_hat.dat.data[:]\n",
        "else:\n",
        "  # Take the average over the two triangles\n",
        "  F.dat.data[indx] = 0.5*(F_hat.dat.data[:len(indx)] + F_hat.dat.data[len(indx):])"
      ],
      "metadata": {
        "id": "OaWPrCDBouNU"
      },
      "execution_count": 261,
      "outputs": []
    },
    {
      "cell_type": "markdown",
      "source": [
        "Finally we can plot this out using firedrake's inbuilt routine"
      ],
      "metadata": {
        "id": "jJrxbIhdwIoQ"
      }
    },
    {
      "cell_type": "code",
      "source": [
        "try:\n",
        "  import firedrake.pyplot as plt\n",
        "except:\n",
        "  warning(\"Matplotlib not imported\")\n",
        "\n",
        "try:\n",
        "  Line2D = plt.plot(F,num_sample_points=150)\n",
        "except Exception as e:\n",
        "  warning(\"Cannot plot figure. Error msg: '%s'\" % e)"
      ],
      "metadata": {
        "colab": {
          "base_uri": "https://localhost:8080/",
          "height": 430
        },
        "id": "x8T1uS56wHy4",
        "outputId": "805daf74-c5b1-4a01-b393-c5f9b98cb0fd"
      },
      "execution_count": 262,
      "outputs": [
        {
          "output_type": "display_data",
          "data": {
            "text/plain": [
              "<Figure size 640x480 with 1 Axes>"
            ],
            "image/png": "[encoded data removed]"
          },
          "metadata": {}
        }
      ]
    },
    {
      "cell_type": "markdown",
      "source": [
        "Having constructed the CDF $F(y)$ we now turn to constructing its PDF $f(y)$ which must remain positive and integrate to one. While strictly speaking the PDF is the derivative of the CDF, the function above is clearly discontinous and constructing a finite element basis for $V_F$ with continuous first derivatives is perhaps unescessary if we can contend ourselves with $f(y)$ being only weakly differentiable. To this end we choose to recover the PDF via a projection as this requires less regularlity. To do so define the function space $V_f $ of $f(y)$ to be\n",
        "\\begin{equation*}\n",
        "    f \\in V_f \\subset H^1(\\Omega_Y), \\quad \\text{where} \\quad f:\\Omega_Y \\to \\mathbb{R}^+ \\quad \\text{s.t.} \\; \\left\\{ \\int f^2 dy < \\infty, \\int |\\nabla f|^2 dy < \\infty \\right\\},\n",
        "\\end{equation*}\n",
        "thus allowing for weak derivatives followed by a set of basis functions $V_f = span\\{\\varphi_i(y)\\}$ such that\n",
        "\\begin{equation*}\n",
        "    f(y) = \\sum_i f_i \\varphi_i(y).\n",
        "\\end{equation*}\n",
        "We then define the projection in each element $e$ as\n",
        "\\begin{equation*}\n",
        "    \\int_{e} \\varphi_e f(y) \\; dy = \\int_{e} \\varphi_e \\partial_y F(y) \\; dy, \\quad \\text{where} \\quad \\forall \\varphi_e \\in V_{e},\n",
        "\\end{equation*}\n",
        "which can be integrated by parts in order to put the derivative onto $v$ thus resulting in a boundary flux\n",
        "\\begin{equation*}\n",
        "    \\int_{e} \\varphi_e f(y) \\; dy = -\\int_{e} F(y) \\partial_y \\varphi_e \\; dy + \\int_{\\partial e} F \\varphi_e \\cdot \\vec{n}_e \\; dS, \\quad \\text{where} \\quad \\forall \\varphi_e \\in V_{e},\n",
        "\\end{equation*}\n",
        "and $\\vec{n}_e$ is the outward pointing unit normal. Since $F$ is discontinuous, as evidenced by the previous figure, we have to choose how it is defined at the element facets. To ensure a stable scheme we choose upwinding, which means that must must specify the choice of $F$ at the edges of the domain as well as the interior facets."
      ],
      "metadata": {
        "id": "gFueH_-SWrFQ"
      }
    },
    {
      "cell_type": "markdown",
      "source": [
        "Summing the contribution of all the elements $\\sum_e \\int_e \\cdot \\; dy = \\int_{\\Omega_Y} \\cdot \\; dy$ we obtain\n",
        "\\begin{align}\n",
        "    \\int_{\\Omega_Y} v f(y) \\; dy = & - \\int_{\\Omega_Y}        F(y) \\partial_y v \\; dy \\\\\n",
        "                                   & + \\int_{\\Gamma_{int}}    F_+ v \\cdot \\vec{n}_e \\; dS \\\\\n",
        "                                   & + \\int_{\\Gamma_{max(y)}} F_- v \\cdot \\vec{n} \\; ds \\quad \\forall v \\in V_{f},\n",
        "\\end{align}\n",
        "where the terms on the left hand side correspond to the cell integral and the integral at right most boundary where we take the interior solution $F_-$. The left most boundary need not be included as for a CDF $F=0$ by definition while the integral over the set of all interior facets $\\Gamma_{int}$ vanishes when we upwind."
      ],
      "metadata": {
        "id": "4mbKLpojWwim"
      }
    },
    {
      "cell_type": "code",
      "source": [
        "# Define a function space\n",
        "V_f = FunctionSpace(mesh=m_y,family=\"CG\",degree=1);\n",
        "\n",
        "u = TrialFunction(V_f)\n",
        "v = TestFunction(V_f)\n",
        "\n",
        "n = FacetNormal(m_y)\n",
        "\n",
        "# create new function y_Fs on function space V\n",
        "#V_F = FunctionSpace(mesh=m_y,family=\"DG\",degree=0);\n",
        "#y,  = SpatialCoordinate(m_y)\n",
        "#F   = interpolate(y,V_F) # Creates a function y in V_F\n",
        "\n",
        "# Define the variational forms for the previous equation\n",
        "a =  inner(u,v) * dx\n",
        "L = -inner(F,v.dx(0)) * dx  +  F*v*ds(2)\n",
        "\n",
        "\n",
        "f = Function(V_f)\n",
        "solve(a == L, f)\n",
        "File(\"PDF_Rayleigh_Benard.pvd\").write(f)\n",
        "\n",
        "try:\n",
        "  Line2D = plt.plot(f,num_sample_points=150)\n",
        "except Exception as e:\n",
        "  warning(\"Cannot plot figure. Error msg: '%s'\" % e)"
      ],
      "metadata": {
        "id": "GjsOBMvRW_iC",
        "colab": {
          "base_uri": "https://localhost:8080/",
          "height": 430
        },
        "outputId": "a3806028-3e10-43e1-8e68-15bfae2eeed2"
      },
      "execution_count": 263,
      "outputs": [
        {
          "output_type": "display_data",
          "data": {
            "text/plain": [
              "<Figure size 640x480 with 1 Axes>"
            ],
            "image/png": "[encoded data removed]"
          },
          "metadata": {}
        }
      ]
    }
  ]
}