{
  "nbformat": 4,
  "nbformat_minor": 0,
  "metadata": {
    "colab": {
      "provenance": [],
      "authorship_tag": "ABX9TyPQJG1jv3DDjPViCAU0bNAG",
      "include_colab_link": true
    },
    "kernelspec": {
      "name": "python3",
      "display_name": "Python 3"
    },
    "language_info": {
      "name": "python"
    }
  },
  "cells": [
    {
      "cell_type": "markdown",
      "metadata": {
        "id": "view-in-github",
        "colab_type": "text"
      },
      "source": [
        "<a href=\"https://colab.research.google.com/github/mannixp/CHIST/blob/main/PDF_Construction_using_extruded_mesh.ipynb\" target=\"_parent\"><img src=\"https://colab.research.google.com/assets/colab-badge.svg\" alt=\"Open In Colab\"/></a>"
      ]
    },
    {
      "cell_type": "code",
      "source": [
        "!apt-get update --fix-missing\n",
        "\n",
        "try:\n",
        "    import firedrake\n",
        "except ImportError:\n",
        "    !wget \"https://fem-on-colab.github.io/releases/firedrake-install-real.sh\" -O \"/tmp/firedrake-install.sh\" && bash \"/tmp/firedrake-install.sh\"\n",
        "    import firedrake\n",
        "\n",
        "try:\n",
        "    import google.colab  # noqa: F401\n",
        "except ImportError:\n",
        "    import pyvista as pv\n",
        "else:\n",
        "    !wget \"https://fem-on-colab.github.io/releases/vtk-install.sh\" -O \"/tmp/vtk-install.sh\" && bash \"/tmp/vtk-install.sh\"\n",
        "    import pyvista as pv\n",
        "\n",
        "# Seems that only static plotting is supported by colab at the moment\n",
        "pv.global_theme.jupyter_backend = \"static\"\n",
        "pv.global_theme.notebook = True\n",
        "pv.start_xvfb()\n",
        "#pv.set_jupyter_backend('trame')"
      ],
      "metadata": {
        "id": "eoPnd_A7SZum",
        "outputId": "3a03ee97-a8fc-419a-fa04-b747038d4b0f",
        "colab": {
          "base_uri": "https://localhost:8080/"
        }
      },
      "execution_count": 51,
      "outputs": [
        {
          "output_type": "stream",
          "name": "stdout",
          "text": [
            "\r0% [Working]\r            \rHit:1 http://archive.ubuntu.com/ubuntu jammy InRelease\n",
            "\r0% [Waiting for headers] [Connecting to security.ubuntu.com (185.125.190.39)] [Connected to cloud.r-\r                                                                                                    \rHit:2 http://archive.ubuntu.com/ubuntu jammy-updates InRelease\n",
            "\r                                                                                                    \rHit:3 https://cloud.r-project.org/bin/linux/ubuntu jammy-cran40/ InRelease\n",
            "\r0% [Waiting for headers] [Connecting to security.ubuntu.com (185.125.190.39)] [Connecting to ppa.lau\r                                                                                                    \rHit:4 http://archive.ubuntu.com/ubuntu jammy-backports InRelease\n",
            "\r0% [Connecting to security.ubuntu.com (185.125.190.39)] [Connecting to ppa.launchpadcontent.net] [Wa\r                                                                                                    \rHit:5 https://developer.download.nvidia.com/compute/cuda/repos/ubuntu2204/x86_64  InRelease\n",
            "Hit:6 http://security.ubuntu.com/ubuntu jammy-security InRelease\n",
            "Hit:7 https://ppa.launchpadcontent.net/c2d4u.team/c2d4u4.0+/ubuntu jammy InRelease\n",
            "Hit:8 https://ppa.launchpadcontent.net/deadsnakes/ppa/ubuntu jammy InRelease\n",
            "Hit:9 https://ppa.launchpadcontent.net/graphics-drivers/ppa/ubuntu jammy InRelease\n",
            "Hit:10 https://ppa.launchpadcontent.net/ubuntugis/ppa/ubuntu jammy InRelease\n",
            "Reading package lists... Done\n",
            "--2024-01-16 15:04:59--  https://fem-on-colab.github.io/releases/vtk-install.sh\n",
            "Resolving fem-on-colab.github.io (fem-on-colab.github.io)... 185.199.108.153, 185.199.109.153, 185.199.110.153, ...\n",
            "Connecting to fem-on-colab.github.io (fem-on-colab.github.io)|185.199.108.153|:443... connected.\n",
            "HTTP request sent, awaiting response... 200 OK\n",
            "Length: 1698 (1.7K) [application/x-sh]\n",
            "Saving to: ‘/tmp/vtk-install.sh’\n",
            "\n",
            "/tmp/vtk-install.sh 100%[===================>]   1.66K  --.-KB/s    in 0s      \n",
            "\n",
            "2024-01-16 15:04:59 (20.2 MB/s) - ‘/tmp/vtk-install.sh’ saved [1698/1698]\n",
            "\n",
            "+ INSTALL_PREFIX=/usr/local\n",
            "++ echo /usr/local\n",
            "++ awk -F/ '{print NF-1}'\n",
            "+ INSTALL_PREFIX_DEPTH=2\n",
            "+ PROJECT_NAME=fem-on-colab\n",
            "+ SHARE_PREFIX=/usr/local/share/fem-on-colab\n",
            "+ VTK_INSTALLED=/usr/local/share/fem-on-colab/vtk.installed\n",
            "+ [[ ! -f /usr/local/share/fem-on-colab/vtk.installed ]]\n"
          ]
        }
      ]
    },
    {
      "cell_type": "markdown",
      "source": [
        "Given a numerical approximation of a random field or random function $Y(\\boldsymbol{x})$ over an arbitrary domain $\\boldsymbol{x} \\in \\Omega$ (which can be thought of as a multidimensional space $\\mathbb{R}^n$), we want to calculate its corresponding cumulative density function (CDF) $F(y)$ and probability density function (PDF) $f(y)$ such that these functions are continuous and make the best possible use of the available data. The CDF of $Y(\\boldsymbol{x})$ is given by\n",
        "\\begin{equation*}\n",
        "    F(y) = \\int_{\\Omega} \\mathbb{I}(y,\\boldsymbol{x}) d \\boldsymbol{x},\n",
        "\\end{equation*}\n",
        "its PDF by $f(y) = \\partial_y F(y)$ and the indicator function is given by\n",
        "\\begin{equation*}\n",
        "    \\mathbb{I}(y,\\boldsymbol{x}) =\n",
        "    \\begin{cases}\n",
        "    1 \\quad &: Y(\\boldsymbol{x}) < y, \\\\\n",
        "    0 \\quad &: \\text{otherwise}.\n",
        "    \\end{cases}\n",
        "\\end{equation*}\n",
        "While seemingly simple the integral of the indicator function is in practice difficult to calculate numerically and the common approach is to jump from the analytical form of $F(y)$ directly to its piecewise constant approximation."
      ],
      "metadata": {
        "id": "VNUk88WfNLr5"
      }
    },
    {
      "cell_type": "markdown",
      "source": [
        "A typical approach to approximating the CDF is to regard $Y(\\boldsymbol{x}_i) = (Y_1, Y_2, \\cdots ,Y_n)$ as a uniformly sampled vector of $n$ discrete points, and to calculate its discrete approximation either as\n",
        "\\begin{equation*}\n",
        "    \\hat{F}(y) = \\frac{1}{n} \\sum_{i=1}^n \\mathbb{1}_{Y_i \\leq y}\n",
        "\\end{equation*}\n",
        "which jumps up by $1/n$ at each data point and thus lets the data discretise the codomain $\\Omega_{Y}$, or to impose a discretisation of $m$ bins $y_0 < y_1 < \\cdots < y_m$ and obtain the approximation\n",
        "\\begin{equation*}\n",
        "    \\hat{F}(y_m) = \\frac{1}{n} \\sum_{i=1}^n \\mathbb{1}_{Y_i \\leq y_m}\n",
        "\\end{equation*}\n",
        "which jumps up between bins by $\\hat{F}(y_2) - \\hat{F}(y_1) \\neq 1/m$, and takes a constant value within each bin. While this gaurantees a monotonic CDF it is clearly discontinuous and has not made the best use of our data as shown in the example below."
      ],
      "metadata": {
        "id": "RFP6QthkNZuo"
      }
    },
    {
      "cell_type": "markdown",
      "source": [
        "Here we consider the function $Y(x_1) = \\sin(x_1)^2$ where $x_1 \\in [0,2 \\pi)$, and plot its CDF $F_Y(y)$ a contour level of its CDF $F_Y(y)$ as function of $x_1,y$ as well as the indicator function $\\mathbb{I}(y,x_1)$."
      ],
      "metadata": {
        "id": "5etO4BX8noJn"
      }
    },
    {
      "cell_type": "code",
      "source": [
        "import numpy as np\n",
        "import matplotlib.pyplot as plt\n",
        "\n",
        "n  = 10 # Number of bins\n",
        "\n",
        "fig = plt.figure(figsize=(12,6))\n",
        "\n",
        "# Motivating the function space\n",
        "# ~~~~~~~~~~~~~~~~~~~~~~~~~~~~~~~~~~~~~~~~~~~~~\n",
        "x1 = np.linspace(0,2*np.pi,10**3)\n",
        "Y  = lambda x: np.sin(x)**2;\n",
        "\n",
        "I  = lambda Y,y_m: [1 if Y_i < y_m else 0 for Y_i in Y];\n",
        "\n",
        "dy = abs( max(Y(x1)) - min(Y(x1)) )/n;\n",
        "y  = np.arange(min(Y(x1)),max(Y(x1)),dy);\n",
        "F  = [ np.mean(I(Y(x1),y_m)) for y_m in y ];\n",
        "\n",
        "ax1 = fig.add_subplot(141)\n",
        "ax1.plot(y,F, drawstyle='steps-post')\n",
        "ax1.set_ylim([0,1])\n",
        "ax1.set_title(r'(a)')\n",
        "ax1.set_xlabel(r'$y$')\n",
        "ax1.set_ylabel(r'$F(y)$')\n",
        "\n",
        "ax2 = fig.add_subplot(142)\n",
        "ax2.set_title(r'(b) $\\hat{F}(y)$')\n",
        "ax2.pcolormesh(x1,y,np.outer(np.ones(len(x1)),F).T,cmap='coolwarm')\n",
        "ax2.set_xlabel(r'$x1$')\n",
        "ax2.set_ylabel(r'$y$')\n",
        "\n",
        "IYX = np.zeros((n,len(x1)))\n",
        "for i,y_m in enumerate(y):\n",
        "  IYX[i,:] = I(Y(x1),y_m)\n",
        "\n",
        "ax3 = fig.add_subplot(143)\n",
        "ax3.set_title(r'(c) $\\mathbb{I}(y,x1)$')\n",
        "im = ax3.pcolormesh(x1,y,IYX,cmap='coolwarm')\n",
        "fig.colorbar(im, ax=ax3)\n",
        "ax3.set_xlabel(r'$x1$')\n",
        "ax3.set_ylabel(r'$y$')\n",
        "\n",
        "ax4 = fig.add_subplot(144)\n",
        "ax4.plot(x1,I(Y(x1),0.5),'b')\n",
        "ax4.set_title(r'(d)')\n",
        "ax4.set_xlabel(r'$x1$')\n",
        "ax4.set_ylabel(r'$\\mathbb{I}(y=0.5,x1)$')\n",
        "\n",
        "plt.tight_layout()\n",
        "plt.show()\n"
      ],
      "metadata": {
        "colab": {
          "base_uri": "https://localhost:8080/",
          "height": 607
        },
        "id": "w6JwdY6MNipX",
        "outputId": "09538848-e762-4f55-adf0-162d68fc356a"
      },
      "execution_count": 52,
      "outputs": [
        {
          "output_type": "display_data",
          "data": {
            "text/plain": [
              "<Figure size 1200x600 with 5 Axes>"
            ],
            "image/png": "[encoded data removed]"
          },
          "metadata": {}
        }
      ]
    },
    {
      "cell_type": "markdown",
      "source": [
        "In the example above we have (1) implicitly assumed a basis of piecewise constant functions and (2) regarded the random field not as a continuous function of space but instead as a vector of grid point evaluations. How do we refine this approach?\n",
        "\n",
        "To address the first point we can define an appropriate function space\n",
        "\\begin{equation*}\n",
        "    F \\in V_F \\subset L^2(\\Omega_Y), \\quad \\text{where} \\quad F: \\Omega_Y \\to [0,1] \\quad \\text{s.t.} \\; \\int F^2 dy < \\infty,\n",
        "\\end{equation*}\n",
        "followed by a set of basis functions $\\{\\phi_i(y)\\} \\in V_F$ such that\n",
        "\\begin{equation*}\n",
        "    F(y) = \\sum_i f_i \\phi_i(y).\n",
        "\\end{equation*}\n",
        "By choosing the space of square integrable functions we ensure that $F$ is monotonic. While this does not garauntee continuity we will see that this is not strictly necessary if we only require $f(y)$ to be continuous. Furthermore by formulating the problem in this manner we can modify the definition of $V_F$ as required.\n",
        "\n",
        "\n",
        "To address the second point we now consider the projection of $F(y)$ into $V_F$ as defined by\n",
        "\\begin{equation*}\n",
        "    \\int_{\\Omega_Y \\times \\Omega} \\hat{F} \\hat{v} \\; dy d \\boldsymbol{x} = \\int_{\\Omega_Y \\times \\Omega} \\mathbb{I}(y,\\boldsymbol{x}) \\hat{v} \\; dy d \\boldsymbol{x},\n",
        "\\end{equation*}\n",
        "where $\\hat{v},\\hat{F} \\in \\hat{V}_F$ denotes the extension of $v,F \\in V_F$ into $\\Omega$. Substituting in for $\\hat{F}$ and considering the projection component-wise we obtain\n",
        "\\begin{equation*}\n",
        "    \\sum_{i,j} \\left[ \\int_{\\Omega_Y \\times \\Omega} \\hat{\\phi}_i \\hat{\\phi}_j \\; dy d \\boldsymbol{x} \\right] f_j = \\sum_i \\left[ \\int_{\\Omega_Y \\times \\Omega} \\mathbb{I}(y,\\boldsymbol{x}) \\hat{\\phi}_i(y,\\boldsymbol{x}) \\; dy d \\boldsymbol{x} \\right],\n",
        "\\end{equation*}\n",
        "where the left hand side denotes the bilinear form and the right hand side the linear form."
      ],
      "metadata": {
        "id": "hK8Vvbf7N7Af"
      }
    },
    {
      "cell_type": "markdown",
      "source": [
        "\n",
        "Applying this equation to the example problem, we find that the precise statement of these function spaces for $\\hat{F}$ and its basis functions $\\hat{v}$ is\n",
        "\\begin{equation}\n",
        "    \\hat{V}_F = V_F \\times R,\n",
        "\\end{equation}\n",
        "the space of square integrable functions $V_F$ times $R$ the space of functions which are constant over the whole domain. These spaces correspond to the $y$ and $x_1$ axis of frame (b) in the example shown above, whose 1D projection is shown in frame (a). Conversely for the indicator function we have\n",
        "\\begin{equation}\n",
        "    V_I = V_F \\times W,\n",
        "\\end{equation}\n",
        "the space of square integrable functions $V_F$ times $W$ the space of functions which are piecewise constant over the whole domain. These spaces correspond to $y$ and $x_1$ axis of frame (c) in the example shown above. In the right most frame (d) we show a cut of frame (c) to highlight the discontinuous dependence of the indicator function on $x_1$.\n",
        "\n",
        "To realise these function spaces we will make use of the finite element code Firedrake."
      ],
      "metadata": {
        "id": "SWMcgq63sx8l"
      }
    },
    {
      "cell_type": "code",
      "source": [
        "from firedrake import *\n",
        "\n",
        "# Construct the mesh\n",
        "Ny   = 25\n",
        "m_x  = IntervalMesh(1,0,2*np.pi); cell_type = \"interval\";  # x-direction\n",
        "#m_x  = RectangleMesh(1,1,Lx=2*np.pi,Ly=4*np.pi, originX=0.0, originY=0.0); cell_type = \"triangle\";\n",
        "mesh = ExtrudedMesh(m_x, layers=Ny,layer_height=1./Ny,extrusion_type='uniform') # y-direction\n",
        "File(\"Exruded_Mesh.pvd\").write(mesh)\n",
        "\n",
        "# Set the function-space \\hat{V}_F\n",
        "R   = FiniteElement(family=\"DG\" ,cell=cell_type,degree=0)\n",
        "V_F = FiniteElement(family=\"DG\",cell=\"interval\",degree=0)\n",
        "\n",
        "elt_RVF = TensorProductElement(R,V_F)\n",
        "V_hat_F = FunctionSpace(mesh,elt_RVF)"
      ],
      "metadata": {
        "id": "n_MLXOJCBLoO"
      },
      "execution_count": 59,
      "outputs": []
    },
    {
      "cell_type": "markdown",
      "source": [
        "To inspect and visualise the mesh created we can use pyvista"
      ],
      "metadata": {
        "id": "noCVB_MA0oGF"
      }
    },
    {
      "cell_type": "code",
      "source": [
        "# Get information on the mesh\n",
        "reader = pv.get_reader(filename=\"Exruded_Mesh.pvd\")\n",
        "fdrake_mesh = reader.read()[0]\n",
        "fdrake_mesh"
      ],
      "metadata": {
        "id": "Yc-vhIgLHIFU"
      },
      "execution_count": null,
      "outputs": []
    },
    {
      "cell_type": "code",
      "source": [
        "# Visualise the mesh\n",
        "static_plotter = pv.Plotter()\n",
        "static_plotter.add_mesh(fdrake_mesh, color='black', style='wireframe', line_width=2)\n",
        "static_plotter.add_points(fdrake_mesh.points, color='red', point_size=4)\n",
        "static_plotter.add_axes()\n",
        "#static_plotter.camera_position = 'xy'\n",
        "static_plotter.show()"
      ],
      "metadata": {
        "id": "VBCSWetJf_RD"
      },
      "execution_count": null,
      "outputs": []
    },
    {
      "cell_type": "markdown",
      "source": [
        "We then declare our CDF over our function space and assign it the value of our right hand side. This will be the indicator function acting on the random function $Y(\\boldsymbol{x})$"
      ],
      "metadata": {
        "id": "UpTnkahKVlR6"
      }
    },
    {
      "cell_type": "code",
      "source": [
        "# Define the indicator function\n",
        "x,y = SpatialCoordinate(mesh)\n",
        "Indicator = conditional( sin(x)**2 < y, 1.0, 0.0)"
      ],
      "metadata": {
        "id": "Z902JIDknvRm"
      },
      "execution_count": 60,
      "outputs": []
    },
    {
      "cell_type": "markdown",
      "source": [
        "To check the indicator function is behaving as expected we can plot it out on a piecewise constant function space $V_I$"
      ],
      "metadata": {
        "id": "vsg-2RpvnwQL"
      }
    },
    {
      "cell_type": "code",
      "source": [
        "# Visualisation of the indicator function\n",
        "N_vis = 100\n",
        "mI_x  = IntervalMesh(N_vis,0,2*np.pi); cell_type = \"interval\";  # x-direction\n",
        "#mI_x  = RectangleMesh(N_vis,N_vis,Lx=2*np.pi,Ly=4*np.pi, originX=0.0, originY=0.0); cell_type = \"triangle\";\n",
        "meshI = ExtrudedMesh(mI_x, layers=N_vis,layer_height=1./N_vis,extrusion_type='uniform') # y-direction\n",
        "\n",
        "# Set the function-space V_I\n",
        "W   = FiniteElement(family=\"DG\",cell=cell_type ,degree=0)\n",
        "V_F = FiniteElement(family=\"DG\",cell=\"interval\",degree=0)\n",
        "\n",
        "elt_WVF = TensorProductElement(W,V_F)\n",
        "V_I     = FunctionSpace(meshI,elt_WVF)\n",
        "\n",
        "I = Function(V_I)\n",
        "I.interpolate( Indicator )\n",
        "File(\"Indicator_Function.pvd\").write(I)\n",
        "\n",
        "reader = pv.get_reader(filename=\"Indicator_Function.pvd\")\n",
        "fdrake_mesh = reader.read()[0]\n",
        "fdrake_mesh.plot(cpos='xy',cmap='coolwarm')"
      ],
      "metadata": {
        "id": "CKlsmFkoVkyR"
      },
      "execution_count": null,
      "outputs": []
    },
    {
      "cell_type": "markdown",
      "source": [
        "We declare the bilinear and linear forms for the left and right hand sides of our equation and then we solve the equation, by defining $F$ to be a function holding the solution and then passing this along with $a$ and $L$ to a solver."
      ],
      "metadata": {
        "id": "yHWoTqqeV-Vr"
      }
    },
    {
      "cell_type": "code",
      "source": [
        "u = TrialFunction(V_hat_F)\n",
        "v = TestFunction(V_hat_F)\n",
        "\n",
        "a = inner(u,v) * dx\n",
        "L = inner(Indicator,v) * dx(degree=100) # Enforece a high order quadrature rule\n",
        "\n",
        "F_hat = Function(V_hat_F)\n",
        "solve(a == L,F_hat)\n",
        "File(\"CDF_Extended.pvd\").write(F_hat)"
      ],
      "metadata": {
        "id": "7js60-1PWAmk"
      },
      "execution_count": 61,
      "outputs": []
    },
    {
      "cell_type": "markdown",
      "source": [
        "The 2D output can be visualised by running"
      ],
      "metadata": {
        "id": "ebnjfBK9CsTT"
      }
    },
    {
      "cell_type": "code",
      "source": [
        "reader = pv.get_reader(filename=\"CDF_Extended.pvd\")\n",
        "fdrake_mesh = reader.read()[0]\n",
        "fdrake_mesh.plot(cpos='xy',cmap='coolwarm')"
      ],
      "metadata": {
        "id": "fC4IoB1vC1WH"
      },
      "execution_count": null,
      "outputs": []
    },
    {
      "cell_type": "markdown",
      "source": [
        "While to recover the 1D function $F(y)$ we must create a new mesh and function space upon which we can define a function to contain the data associated with the extended function's $\\hat{F}(y,\\boldsymbol{x})$ DOF."
      ],
      "metadata": {
        "id": "Rl4yHkfioLMu"
      }
    },
    {
      "cell_type": "code",
      "source": [
        "# Define a mesh,function space & the CDF F which lives in this space\n",
        "m_y = IntervalMesh(Ny,0,1);\n",
        "V_F = FunctionSpace(mesh=m_y,family=\"DG\",degree=0);\n",
        "F   = Function(V_F)\n",
        "\n",
        "# create new function y_Fs on function space V\n",
        "y,  = SpatialCoordinate(m_y)\n",
        "y_Fs= Interpolate(y,V_F)\n",
        "\n",
        "# Now we sort these in ascending order\n",
        "# This is because the DOFs for the extended mesh are in ascending order\n",
        "#indx = np.argsort(y_Fs)\n",
        "\n",
        "# Pass the data from F_hat into F\n",
        "F.dat.data[:] = F_hat.dat.data[:]\n"
      ],
      "metadata": {
        "id": "OaWPrCDBouNU"
      },
      "execution_count": 62,
      "outputs": []
    },
    {
      "cell_type": "markdown",
      "source": [
        "Finally we can plot this out using firedrake's inbuilt routine"
      ],
      "metadata": {
        "id": "jJrxbIhdwIoQ"
      }
    },
    {
      "cell_type": "code",
      "source": [
        "try:\n",
        "  import firedrake.pyplot as plt\n",
        "except:\n",
        "  warning(\"Matplotlib not imported\")\n",
        "\n",
        "try:\n",
        "  Line2D = plt.plot(F,num_sample_points=100)\n",
        "except Exception as e:\n",
        "  warning(\"Cannot plot figure. Error msg: '%s'\" % e)"
      ],
      "metadata": {
        "colab": {
          "base_uri": "https://localhost:8080/",
          "height": 430
        },
        "id": "x8T1uS56wHy4",
        "outputId": "62b1ef1f-44a2-4308-e866-2aed5c3552c6"
      },
      "execution_count": 63,
      "outputs": [
        {
          "output_type": "display_data",
          "data": {
            "text/plain": [
              "<Figure size 640x480 with 1 Axes>"
            ],
            "image/png": "[encoded data removed]"
          },
          "metadata": {}
        }
      ]
    },
    {
      "cell_type": "markdown",
      "source": [
        "Having constructed the CDF $F(y)$ we now turn to constructing its PDF $f(y)$ which must remain positive and integrate to one. While strictly speaking the PDF is the derivative of the CDF, we choose to recover the PDF via a projection as this requires less regularlity. To do so define the function space of $f(y)$ to be\n",
        "\\begin{equation*}\n",
        "    f \\in V_f \\subset H^1(\\Omega_Y), \\quad \\text{where} \\quad f:\\Omega_Y \\to \\mathbb{R}^+ \\quad \\text{s.t.} \\; \\left\\{ \\int f^2 dy < \\infty, \\int |\\nabla f|^2 dy < \\infty \\right\\},\n",
        "\\end{equation*}\n",
        "thus allowing for weak derivatives followed by a set of basis functions $\\{\\varphi_i(y)\\} \\in V_f$ such that\n",
        "\\begin{equation*}\n",
        "    f(y) = \\sum_i f_i \\varphi_i(y).\n",
        "\\end{equation*}\n",
        "We then define the projection in each element $e$ as\n",
        "\\begin{equation*}\n",
        "    \\int_{e} \\varphi_e f(y) \\; dy = \\int_{e} \\varphi_e \\partial_y F(y) \\; dy, \\quad \\text{where} \\quad \\forall \\varphi_e \\in V_{e},\n",
        "\\end{equation*}\n",
        "which can be integrated by parts in order to put the derivative onto $v$ thus resulting in a boundary flux\n",
        "\\begin{equation*}\n",
        "    \\int_{e} \\varphi_e f(y) \\; dy = -\\int_{e} F(y) \\partial_y \\varphi_e \\; dy + \\int_{\\partial e} F \\varphi_e \\cdot \\vec{n}_e \\; dS, \\quad \\text{where} \\quad \\forall \\varphi_e \\in V_{e},\n",
        "\\end{equation*}\n",
        "and $\\vec{n}_e$ is the outward pointing unit normal. Since $F$ is discontinuous, as evidenced by the previous figure, we have to choose how it is defined at the element facets. To ensure a stable scheme we choose upwinding, which means that must must specify the choice of $F$ at the edges of the domain as well as the interior facets."
      ],
      "metadata": {
        "id": "gFueH_-SWrFQ"
      }
    },
    {
      "cell_type": "markdown",
      "source": [
        "Summing the contribution of all the elements $\\sum_e \\int_e \\cdot \\; dy = \\int_{\\Omega_Y} \\cdot \\; dy$ we obtain\n",
        "\\begin{align}\n",
        "    \\int_{\\Omega_Y} v f(y) \\; dy = & - \\int_{\\Omega_Y}        F(y) \\partial_y v \\; dy \\\\\n",
        "                                   & + \\int_{\\Gamma_{int}}    F_+ v \\cdot \\vec{n}_e \\; dS \\\\\n",
        "                                   & + \\int_{\\Gamma_{max(y)}} F_- v \\cdot \\vec{n} \\; ds \\quad \\forall v \\in V_{f},\n",
        "\\end{align}\n",
        "where the terms on the left hand side correspond to the cell integral and the integral at right most boundary where we take the interior solution $F_-$. The left most boundary need not be included as for a CDF $F=0$ by definition while the integral over the set of all interior facets $\\Gamma_{int}$ vanishes when we upwind."
      ],
      "metadata": {
        "id": "4mbKLpojWwim"
      }
    },
    {
      "cell_type": "code",
      "source": [
        "V_f = FunctionSpace(mesh,\"CG\",1) # Define a function space consisting of piecewise linear functions\n",
        "\n",
        "u = TrialFunction(V_f)\n",
        "v = TestFunction(V_f)\n",
        "\n",
        "n = FacetNormal(mesh)\n",
        "\n",
        "# Define the variational forms for the previous equation\n",
        "a =  inner(u,v) * dx\n",
        "L = -inner(F,v.dx(0)) * dx  +  F*v*ds(2)\n",
        "\n",
        "\n",
        "f = Function(V_f)\n",
        "solve(a == L, f, solver_parameters={'ksp_type':'cg','pc_type':'none'})\n",
        "File(\"PDF_Rayleigh_Benard.pvd\").write(f)"
      ],
      "metadata": {
        "id": "GjsOBMvRW_iC"
      },
      "execution_count": null,
      "outputs": []
    },
    {
      "cell_type": "markdown",
      "source": [
        "Finally we visualise the PDF below"
      ],
      "metadata": {
        "id": "b9Zc-wQ9XC-C"
      }
    },
    {
      "cell_type": "code",
      "source": [
        "try:\n",
        "  import matplotlib.pyplot as plt\n",
        "except:\n",
        "  warning(\"Matplotlib not imported\")\n",
        "\n",
        "try:\n",
        "  fig    = plt.figure()\n",
        "  Line2D = plot(f)\n",
        "  plt.xlabel(r'$y$')\n",
        "  plt.ylabel(r'$f(y)$')\n",
        "\n",
        "except Exception as e:\n",
        "  warning(\"Cannot plot figure. Error msg: '%s'\" % e)\n",
        "\n",
        "try:\n",
        "  plt.show()\n",
        "except Exception as e:\n",
        "  warning(\"Cannot show figure. Error msg: '%s'\" % e)\n"
      ],
      "metadata": {
        "colab": {
          "base_uri": "https://localhost:8080/",
          "height": 467
        },
        "id": "gBLfPS5NXIP1",
        "outputId": "ce37f594-83f1-44a3-9cb6-8853e51991f4"
      },
      "execution_count": null,
      "outputs": [
        {
          "output_type": "display_data",
          "data": {
            "text/plain": [
              "<Figure size 640x480 with 0 Axes>"
            ]
          },
          "metadata": {}
        },
        {
          "output_type": "display_data",
          "data": {
            "text/plain": [
              "<Figure size 640x480 with 1 Axes>"
            ],
            "image/png": "[encoded data removed]"
          },
          "metadata": {}
        }
      ]
    },
    {
      "cell_type": "code",
      "source": [
        "# from firedrake import *\n",
        "\n",
        "# m_Y  = IntervalMesh(15,0,1)       # Construct a mesh using 10 elements\n",
        "# mesh = ExtrudedMesh(m_Y,10)\n",
        "\n",
        "# V_Y = FiniteElement(\"CG\",m_Y.cell,1)\n",
        "# V_x1= FiniteElement(\"R\",interval,0)\n",
        "\n",
        "# elt = TensorProductElement(V_Y,V_x1)\n",
        "\n",
        "# V_F  = FunctionSpace(mesh,elt) # Define a function space consisting of piecewise constant functions\n",
        "# V_F_Y = FunctionSpace(m_Y, V_Y)\n",
        "\n",
        "# F  = Function(V_F)\n",
        "# F_Y = Function(V_F_Y, val=F.dat)\n",
        "\n",
        "# u = TrialFunction(V_F)\n",
        "# v = TestFunction(V_F)"
      ],
      "metadata": {
        "id": "ytGgWWJODrCj"
      },
      "execution_count": null,
      "outputs": []
    }
  ]
}