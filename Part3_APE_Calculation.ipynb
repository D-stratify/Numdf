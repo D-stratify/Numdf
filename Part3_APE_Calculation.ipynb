{
 "cells": [
  {
   "cell_type": "code",
   "execution_count": null,
   "metadata": {},
   "outputs": [],
   "source": [
    "# !apt-get update --fix-missing\n",
    "\n",
    "# try:\n",
    "#     import firedrake\n",
    "# except ImportError:\n",
    "#     !wget \"https://fem-on-colab.github.io/releases/firedrake-install-real.sh\" -O \"/tmp/firedrake-install.sh\" && bash \"/tmp/firedrake-install.sh\"\n",
    "#     import firedrake"
   ]
  },
  {
   "cell_type": "markdown",
   "metadata": {},
   "source": [
    "The available potential energy (APE) of a buoyancy field $B(\\boldsymbol{x})$ of vertical extent $Z(\\boldsymbol{x})$ is given by the difference of its actual potential energy and the (minimal) potential energy \n",
    "\\begin{equation}\n",
    "\\mathbb{E}[BZ^*]  - \\mathbb{E}[BZ] = \\iint b \\left(Z^*(b) -z \\right) \\; f_{BZ}(b,z) \\; dbdz,\n",
    "\\end{equation}\n",
    "where the reference state\n",
    "\\begin{equation}\n",
    "Z^*(b) = F^{-1}_Z \\circ F_B(b) = Q_Z \\circ F_B(b),\n",
    "\\end{equation}\n",
    "corresponds to an adiabatic volume preserving rearrangement of the fluid into a state that minimises PE. To calculate this quantity therefore requires an estimation of the buoyancy's PDF & CDF $f_B,F_B$ as well as the vertical cordinate's QDF $Q_Z = F_Z^{-1}$."
   ]
  },
  {
   "cell_type": "markdown",
   "metadata": {},
   "source": [
    "As an example of a buoyancy field and potential we will consider\n",
    "\\begin{align}\n",
    "    B(x_1,x_2) &= x_2 + \\epsilon \\sin(2 \\pi x_2) \\sin(\\pi x_1),\\\\\n",
    "    Z(x_1,x_2) &= x_2,\n",
    "\\end{align}\n",
    "such that the physical domain is given by $\\Omega_X \\in [-1,1] \\times [0,1]$, the buoyancy domain $\\Omega_B \\in [-1,1]$ and that of the potential by $\\Omega_Z \\in [0,1]$. The parameter $\\epsilon$ will be used to swich on and off a more complicated functional dependency.\n",
    "\n",
    "To construct the buoyancy's PDF & CDF $f_B,F_B$ and the vertical cordinate's QDF $F_Z^{-1}$ we make use of the **PDF_Projector** class imported below."
   ]
  },
  {
   "cell_type": "code",
   "execution_count": null,
   "metadata": {},
   "outputs": [],
   "source": [
    "from PDF_Projector import *"
   ]
  },
  {
   "cell_type": "markdown",
   "metadata": {},
   "source": [
    "First we set up the function spaces and domain of the buoyancy $B$"
   ]
  },
  {
   "cell_type": "code",
   "execution_count": null,
   "metadata": {},
   "outputs": [],
   "source": [
    "ε = 1\n",
    "π = np.pi\n",
    "\n",
    "# Set the function space\n",
    "ptp = FEptp(func_space_CDF = {\"family\":\"DG\",\"degree\":1},func_space_PDF={\"family\":\"CG\",\"degree\":1})\n",
    "\n",
    "# Set the domain\n",
    "x1,x2,b = ptp.domain(Omega_X = {'x1':(-1,1),'x2':(0,1)}, Omega_Y = {'Y':(-1,1)}, N_elements=50)\n",
    "\n",
    "# Construct the PDF,CDF,QDF\n",
    "ptp.fit(function_Y = x2 + ε*sin(2*π*x1)*sin(π*x2), quadrature_degree=200)\n",
    "\n",
    "# Grab the CDF & PDF\n",
    "F_B = ptp.F\n",
    "f_B = ptp.f"
   ]
  },
  {
   "cell_type": "markdown",
   "metadata": {},
   "source": [
    "Second we set up function space and domain of the potential $Z$"
   ]
  },
  {
   "cell_type": "code",
   "execution_count": null,
   "metadata": {},
   "outputs": [],
   "source": [
    "# Set the function space\n",
    "ptp = FEptp(func_space_CDF = {\"family\":\"DG\",\"degree\":1})\n",
    "\n",
    "# Set the domain\n",
    "x1,x2,z = ptp.domain(Omega_X = {'x1':(-1,1),'x2':(0,1)}, Omega_Y = {'Y':(0,1)}, N_elements=50)\n",
    "\n",
    "# Construct the PDF,CDF,QDF\n",
    "ptp.fit(function_Y = x2, quadrature_degree=200)\n",
    "\n",
    "# Grab the QDF\n",
    "Q_Z = ptp.Q"
   ]
  },
  {
   "cell_type": "markdown",
   "metadata": {},
   "source": [
    "Having obtained all necessary functions it remains to evaluate the integral to obtain the reference height $Z^*(b)$"
   ]
  }
 ],
 "metadata": {
  "kernelspec": {
   "display_name": "firedrake",
   "language": "python",
   "name": "python3"
  },
  "language_info": {
   "name": "python",
   "version": "3.11.9"
  }
 },
 "nbformat": 4,
 "nbformat_minor": 2
}
